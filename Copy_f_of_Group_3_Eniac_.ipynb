{
  "nbformat": 4,
  "nbformat_minor": 0,
  "metadata": {
    "colab": {
      "provenance": [],
      "collapsed_sections": [
        "wBHMNUqp_xD0",
        "Mdp4NpSxCp6I",
        "DyTfC-WY-IWe",
        "jNmUxC3tpsFd",
        "r7_faFLbyXuZ",
        "1NW2P37eGMpu",
        "Q2v5f4VvGTzV",
        "nCRaWhPX4Yv6",
        "i4knZZxh2hd4",
        "6BthEOYMfNuK",
        "Ni82V_O4mfSy",
        "YplxnLuKmnlY",
        "uwPMfpe2nF_W",
        "dx7cZFAOmr5K",
        "JJ0TtrGhFTMv",
        "_d1lwist8F6X",
        "NINPK4rB8TSY",
        "xPos2ipK8VST",
        "FWROzNEd8b8d",
        "yn8Ob8QvSGdE",
        "PC1-zUj3LcDK",
        "TnN6nAOQ_Xrp",
        "1uXKY4uzmhXW",
        "-6PYOl6YmoIp",
        "LNcrYIoCmtge",
        "mZ4OfbJ7mxjb",
        "6JJyFwMZARJa",
        "r3dnZVGwE6ci",
        "DTLXlDGdFH30",
        "n-Oyc1y8Fb8X",
        "uVVZkbhZFiSR",
        "CKzn97QhFuww",
        "AB9Zqud8Fy0Y",
        "1Q6IDhuyF0_w"
      ],
      "toc_visible": true,
      "include_colab_link": true
    },
    "kernelspec": {
      "name": "python3",
      "display_name": "Python 3"
    },
    "language_info": {
      "name": "python"
    }
  },
  "cells": [
    {
      "cell_type": "markdown",
      "metadata": {
        "id": "view-in-github",
        "colab_type": "text"
      },
      "source": [
        "<a href=\"https://colab.research.google.com/github/reemap22/Project-2-DataCleaning-and-Analysis-Python/blob/main/Copy_f_of_Group_3_Eniac_.ipynb\" target=\"_parent\"><img src=\"https://colab.research.google.com/assets/colab-badge.svg\" alt=\"Open In Colab\"/></a>"
      ]
    },
    {
      "cell_type": "markdown",
      "source": [
        "#`Eniac's Case`\n",
        " 1. The Marketing Team Lead is convinced that offering discounts is beneficial in the long run. She believes discounts improve customer acquisition, satisfaction and retention, and allow the company to grow.\n",
        "\n",
        "2. The main investors in the Board are worried about offering aggressive discounts. They have pointed out how the company’s recent quarterly results showed an increase in orders placed, but a decrease in the total revenue. They prefer that the company positions itself in the quality segment, rather than competing to offer the lowest prices in the market.\n"
      ],
      "metadata": {
        "id": "uR-_LRq0EgDf"
      }
    },
    {
      "cell_type": "markdown",
      "source": [
        "#Group work on Eniac´s data cleaning\n"
      ],
      "metadata": {
        "id": "wBHMNUqp_xD0"
      }
    },
    {
      "cell_type": "code",
      "execution_count": null,
      "metadata": {
        "id": "J8JhBq3j_NFp"
      },
      "outputs": [],
      "source": [
        "#import pandas as pd\n",
        "\n",
        "#url = \"https://drive.google.com/file/d/1afxwDXfl-7cQ_qLwyDitfcCx3u7WMvkU/view?usp=sharing\"\n",
        "#path = \"https://drive.google.com/uc?export=download&id=\"+url.split(\"/\")[-2]\n",
        "#products_df = pd.read_csv(path)\n",
        "\n",
        "#url = \"https://drive.google.com/file/d/1Vu0q91qZw6lqhIqbjoXYvYAQTmVHh6uZ/view?usp=sharing\"\n",
        "#path = \"https://drive.google.com/uc?export=download&id=\"+url.split(\"/\")[-2]\n",
        "#orders_df = pd.read_csv(path)\n",
        "\n",
        "#url = \"https://drive.google.com/file/d/1FYhN_2AzTBFuWcfHaRuKcuCE6CWXsWtG/view?usp=sharing\"\n",
        "#path = \"https://drive.google.com/uc?export=download&id=\"+url.split(\"/\")[-2]\n",
        "#orderlines_df = pd.read_csv(path)\n",
        "\n",
        "# brands_cl.csv\n",
        "#url = \"https://drive.google.com/file/d/1XGyabaa4mAkjixMk3XPgx_14OoSse3rs/view?usp=sharing\"\n",
        "#path = \"https://drive.google.com/uc?export=download&id=\"+url.split(\"/\")[-2]\n",
        "#brands_df = pd.read_csv(path)"
      ]
    },
    {
      "cell_type": "code",
      "source": [
        "import pandas as pd"
      ],
      "metadata": {
        "id": "o92RW4mPXKnG"
      },
      "execution_count": null,
      "outputs": []
    },
    {
      "cell_type": "code",
      "source": [
        "url = \"https://drive.google.com/file/d/1tsCP3YUGmxp3i0I5lRs7_8XDMYWTd4HJ/view?usp=drive_link\"\n",
        "path = \"https://drive.google.com/uc?export=download&id=\"+url.split(\"/\")[-2]\n",
        "products = pd.read_csv(path)\n",
        "\n",
        "url = \"https://drive.google.com/file/d/1PtPPww7U-gxm_JolJsU23Z9WBa_oBvaZ/view?usp=drive_link\"\n",
        "path = \"https://drive.google.com/uc?export=download&id=\"+url.split(\"/\")[-2]\n",
        "orders = pd.read_csv(path)\n",
        "\n",
        "url = \"https://drive.google.com/file/d/1HJaRmWsQL4aeU6umdedPpUj__mWV_5kQ/view?usp=drive_link\"\n",
        "path = \"https://drive.google.com/uc?export=download&id=\"+url.split(\"/\")[-2]\n",
        "orderlines = pd.read_csv(path)\n",
        "\n",
        "url = \"https://drive.google.com/file/d/1228LW6cfSlNFVTlLqH4CzO71dJKi8iqu/view?usp=drive_link\"\n",
        "path = \"https://drive.google.com/uc?export=download&id=\" + url.split(\"/\")[-2]\n",
        "brands = pd.read_csv(path)"
      ],
      "metadata": {
        "id": "L8TT5eoU4kTu"
      },
      "execution_count": null,
      "outputs": []
    },
    {
      "cell_type": "markdown",
      "source": [
        "Information on the Tables"
      ],
      "metadata": {
        "id": "uHFzwYIiQOOq"
      }
    },
    {
      "cell_type": "code",
      "source": [
        "#products\n",
        "#orders\n",
        "#orderlines\n",
        "#brands\n",
        "\n",
        "#product.shape\n",
        "#orders.shape\n",
        "#orderlines.shape\n",
        "#brands.shape\n",
        "\n",
        "#products.info\n",
        "#orders.info\n",
        "#orderlines.info\n",
        "#brands.info"
      ],
      "metadata": {
        "id": "UZHiVX_-HQ1t"
      },
      "execution_count": null,
      "outputs": []
    },
    {
      "cell_type": "markdown",
      "source": [
        "## `products`\n",
        "\n",
        "In this table we changed the data type of price and promo_price and removed corrupted information\n"
      ],
      "metadata": {
        "id": "Mdp4NpSxCp6I"
      }
    },
    {
      "cell_type": "markdown",
      "source": [
        "### Look for duplicates\n",
        "\n",
        "\n"
      ],
      "metadata": {
        "id": "DyTfC-WY-IWe"
      }
    },
    {
      "cell_type": "code",
      "source": [
        "# Finding the duplicates values in the products DataFrame with the `.duplicated´ method\n",
        "duplicates = products.duplicated()\n",
        "(\"Number of duplicated rows:\", duplicates.sum())"
      ],
      "metadata": {
        "colab": {
          "base_uri": "https://localhost:8080/"
        },
        "id": "p45Rvnt2IlVl",
        "outputId": "012885ae-07ae-4152-903e-edd7b0c3e88d"
      },
      "execution_count": null,
      "outputs": [
        {
          "output_type": "execute_result",
          "data": {
            "text/plain": [
              "('Number of duplicated rows:', 8746)"
            ]
          },
          "metadata": {},
          "execution_count": 8
        }
      ]
    },
    {
      "cell_type": "code",
      "source": [
        "products.drop_duplicates(inplace=True)"
      ],
      "metadata": {
        "id": "Cy63ga4ppLUK"
      },
      "execution_count": null,
      "outputs": []
    },
    {
      "cell_type": "code",
      "source": [
        "products.duplicated().sum()"
      ],
      "metadata": {
        "colab": {
          "base_uri": "https://localhost:8080/"
        },
        "id": "XX9un0kbpQ66",
        "outputId": "b6793a67-f458-449d-9ff7-cdb37f86d939"
      },
      "execution_count": null,
      "outputs": [
        {
          "output_type": "execute_result",
          "data": {
            "text/plain": [
              "0"
            ]
          },
          "metadata": {},
          "execution_count": 10
        }
      ]
    },
    {
      "cell_type": "markdown",
      "source": [
        "###Looking for missing values\n",
        "\n",
        "\n"
      ],
      "metadata": {
        "id": "jNmUxC3tpsFd"
      }
    },
    {
      "cell_type": "code",
      "source": [
        "products.isnull().sum() # To find the total amount of missing values on products.\n"
      ],
      "metadata": {
        "id": "7xN1mK1xwi4k",
        "colab": {
          "base_uri": "https://localhost:8080/"
        },
        "outputId": "aac4ad42-5d02-4a87-8889-1b0eccc904ed"
      },
      "execution_count": null,
      "outputs": [
        {
          "output_type": "execute_result",
          "data": {
            "text/plain": [
              "sku             0\n",
              "name            0\n",
              "desc            7\n",
              "price          46\n",
              "promo_price     0\n",
              "in_stock        0\n",
              "type           50\n",
              "dtype: int64"
            ]
          },
          "metadata": {},
          "execution_count": 11
        }
      ]
    },
    {
      "cell_type": "code",
      "source": [
        "products.isnull().sum() / len(products) * 100 # To show the percentage rrepresented by this missing values\n"
      ],
      "metadata": {
        "id": "NKfJphTiyFwT",
        "colab": {
          "base_uri": "https://localhost:8080/"
        },
        "outputId": "67910ce8-c561-4bfc-ac80-ac6d4ad8f7ae"
      },
      "execution_count": null,
      "outputs": [
        {
          "output_type": "execute_result",
          "data": {
            "text/plain": [
              "sku            0.000000\n",
              "name           0.000000\n",
              "desc           0.066163\n",
              "price          0.434783\n",
              "promo_price    0.000000\n",
              "in_stock       0.000000\n",
              "type           0.472590\n",
              "dtype: float64"
            ]
          },
          "metadata": {},
          "execution_count": 13
        }
      ]
    },
    {
      "cell_type": "markdown",
      "source": [
        "### Checking & Changing datatypes\n",
        "\n",
        "\n"
      ],
      "metadata": {
        "id": "r7_faFLbyXuZ"
      }
    },
    {
      "cell_type": "markdown",
      "source": [
        "`price`"
      ],
      "metadata": {
        "id": "1RJfHh-H1Lkv"
      }
    },
    {
      "cell_type": "code",
      "source": [
        "products[\"price\"] = pd.to_numeric(products[\"price\"])"
      ],
      "metadata": {
        "id": "yoTyulyUy2_n"
      },
      "execution_count": null,
      "outputs": []
    },
    {
      "cell_type": "markdown",
      "source": [
        "As we tried to change the datatype of prices we identified many numers with two decimal spaces.\n",
        "\n",
        "\n",
        "\n"
      ],
      "metadata": {
        "id": "t1BVFouy2tuK"
      }
    },
    {
      "cell_type": "code",
      "source": [
        "#Here, we search for how many values in prices are in total under this condtion.\n",
        "products['price'].astype(str).str.contains(\"\\d+\\.\\d+\\.\\d+\").value_counts()"
      ],
      "metadata": {
        "colab": {
          "base_uri": "https://localhost:8080/"
        },
        "id": "I8pPWdc4zfVV",
        "outputId": "4107b23b-08e8-4fbd-f0fc-e0ff3bd4200c"
      },
      "execution_count": null,
      "outputs": [
        {
          "output_type": "execute_result",
          "data": {
            "text/plain": [
              "False    10580\n",
              "Name: price, dtype: int64"
            ]
          },
          "metadata": {},
          "execution_count": 18
        }
      ]
    },
    {
      "cell_type": "code",
      "source": [
        "products['price'].astype(str).str.contains(r\"\\d+\\.\\d+\\.\\d+\").value_counts(normalize=True) * 100"
      ],
      "metadata": {
        "colab": {
          "base_uri": "https://localhost:8080/"
        },
        "id": "bPuY87OU2ScZ",
        "outputId": "e1cbb12a-1351-4564-f5dd-0a74b2e329dc"
      },
      "execution_count": null,
      "outputs": [
        {
          "output_type": "execute_result",
          "data": {
            "text/plain": [
              "False    96.436673\n",
              "True      3.563327\n",
              "Name: price, dtype: float64"
            ]
          },
          "metadata": {},
          "execution_count": 16
        }
      ]
    },
    {
      "cell_type": "code",
      "source": [
        "#Here we decided to coerce the errors given on the convertion of prices into NaN values for the sake of the project\n",
        "products['price'] = pd.to_numeric (products['price'], errors='coerce')"
      ],
      "metadata": {
        "id": "ecWMAnYw2ewm"
      },
      "execution_count": null,
      "outputs": []
    },
    {
      "cell_type": "markdown",
      "source": [
        "`promo_price`\n",
        "\n",
        "\n"
      ],
      "metadata": {
        "id": "fjCXAtaPg3zb"
      }
    },
    {
      "cell_type": "code",
      "source": [
        "#Here we change promo_prices into \"Float\" Datatype\n",
        "products['promo_price'] = products'promo_price'].astype(float)\n"
      ],
      "metadata": {
        "id": "3d16nh5dAdyT",
        "colab": {
          "base_uri": "https://localhost:8080/",
          "height": 131
        },
        "outputId": "21bdecce-0ff6-4183-cb7f-b4800a77eeb8"
      },
      "execution_count": null,
      "outputs": [
        {
          "output_type": "error",
          "ename": "SyntaxError",
          "evalue": "ignored",
          "traceback": [
            "\u001b[0;36m  File \u001b[0;32m\"<ipython-input-20-caf0de2c30d7>\"\u001b[0;36m, line \u001b[0;32m2\u001b[0m\n\u001b[0;31m    products['promo_price'] = products'promo_price'].astype(float)\u001b[0m\n\u001b[0m                                                   ^\u001b[0m\n\u001b[0;31mSyntaxError\u001b[0m\u001b[0;31m:\u001b[0m unmatched ']'\n"
          ]
        }
      ]
    },
    {
      "cell_type": "code",
      "source": [
        "products['promo_price'].astype(str).str.contains(r\"\\d+\\.\\d+\\.\\d+\").value_counts(normalize=True) * 100"
      ],
      "metadata": {
        "id": "KJxOMdiVBKwo",
        "colab": {
          "base_uri": "https://localhost:8080/"
        },
        "outputId": "2051fed8-4e6f-40c5-943c-6e67a31fec14"
      },
      "execution_count": null,
      "outputs": [
        {
          "output_type": "execute_result",
          "data": {
            "text/plain": [
              "False    56.550095\n",
              "True     43.449905\n",
              "Name: promo_price, dtype: float64"
            ]
          },
          "metadata": {},
          "execution_count": 21
        }
      ]
    },
    {
      "cell_type": "markdown",
      "source": [
        "Here we asume there is corrupted data in promo_prices so we star looking for values afected by the decimal problem"
      ],
      "metadata": {
        "id": "lR94JUpJh0WY"
      }
    },
    {
      "cell_type": "code",
      "source": [
        "promo_problems_number = products.loc[(products.promo_price.astype(str).str.contains(\"\\d+\\.\\d+\\.\\d+\"))|(products.promo_price.astype(str).str.contains(\"\\d+\\.\\d{3,}\")), :].shape[0]\n",
        "print(f\"The column promo_price has in total {promo_problems_number} wrong values. This is {round(((promo_problems_number / products.shape[0]) * 100), 2)}% of the rows of the DataFrame\")"
      ],
      "metadata": {
        "id": "bShFL27Nq3Da",
        "colab": {
          "base_uri": "https://localhost:8080/"
        },
        "outputId": "343803ae-298d-4d4f-c2ee-495b2f606a44"
      },
      "execution_count": null,
      "outputs": [
        {
          "output_type": "stream",
          "name": "stdout",
          "text": [
            "The column promo_price has in total 9734 wrong values. This is 92.0% of the rows of the DataFrame\n"
          ]
        }
      ]
    },
    {
      "cell_type": "code",
      "source": [
        "# Here we open the table under the condition of the error to reassure the last output is accurate\n",
        "promo_price = products.loc[(products.promo_price.astype(str).str.contains(\"\\d+\\.\\d+\\.\\d+\"))|(products.promo_price.astype(str).str.contains(\"\\d+\\.\\d{3,}\")), :]\n",
        "promo_price.sample(50)"
      ],
      "metadata": {
        "id": "c9W1xiu9jFjm",
        "colab": {
          "base_uri": "https://localhost:8080/",
          "height": 1000
        },
        "outputId": "c69390d0-1ba9-4b6f-bde6-1249559e8072"
      },
      "execution_count": null,
      "outputs": [
        {
          "output_type": "execute_result",
          "data": {
            "text/plain": [
              "             sku                                               name  \\\n",
              "1441     LAC0146                     LaCie d2 USB 3.0 Hard Disk 4TB   \n",
              "15381    REP0340                           LCD screen repair iPad 4   \n",
              "1031     PAC0434                        OWC Mercury Elite Pro + 2TB   \n",
              "2331     SNN0046       Sonnet SuperSpeed ​​USB 3.0 ExpressCard / 34   \n",
              "11458    MRL0008           Brown Marley Chant Mini Wireless Speaker   \n",
              "369      REP0036                        Full screen repair iPhone 4   \n",
              "445      NTE0027                  NewerTech Mini DVI to DVI Adapter   \n",
              "15247  WAC0167-A  Open - Wacom Intuos Creative Art Pen & Touch M...   \n",
              "17208    WDT0384    WD My Passport 1TB SSD Drive SSD external USB-C   \n",
              "18922  LIF0114-A  Open - LifeProof nüüd Submersible iPhone Case ...   \n",
              "17998    STM0101                   Dux STM iPad Case 97 \"Black 2017   \n",
              "15501  SAN0110-A  Open - Sandisk Wireless Connect Wireless Flash...   \n",
              "2720     SYN0120  Synology RXD1215sas expansion module for Mac a...   \n",
              "17627    APP2512    Silicon Case Cover Apple iPhone 8/7 Cobalt Blue   \n",
              "11698    WAC0187  Wacom Cintiq Companion 2 DTH-W1310T for Mac an...   \n",
              "16738    APP2103                  Apple Correa Sport 38mm Blue Haze   \n",
              "12686    APP1558       Apple iPhone Silicone Case Case 6 / 6s Menta   \n",
              "11       SEN0021  Sennheiser CX 300-II Precision headphones iPho...   \n",
              "10868    APP1206              Apple iPad Pro 12.9 \"Wi-Fi 128GB Gold   \n",
              "14757  OWC0157-A  Open - expansion Kit OWC Aura SSD 960GB 6G Mac...   \n",
              "12279    LAC0184                 Fuel Drive USB 3.0 LaCie 1TB Wi-Fi   \n",
              "11368    SAN0138  SanDisk Ultra microSDXC 128GB Memory Card + SD...   \n",
              "17816    PAC2215  Synology DS718 + NAS Server | 10GB RAM | 16TB ...   \n",
              "399      REP0093                              iPad 2 battery repair   \n",
              "14622    WDT0355  WD My Passport 2TB External Hard Drive USB 3.0...   \n",
              "2902     WDT0287                  WD 4TB SSHD Blue 8GB SSD 35 \"SATA   \n",
              "13510    BEL0292  Belkin SheerForce Air Protect Case iPhone 6 / ...   \n",
              "14565    PAC1558  SSD Crucial MX300 expansion kit 1TB + 16GB 160...   \n",
              "14595  CRU0025-A     Open - Crucial memory 4GB SO-DIMM DDR3 1600MHz   \n",
              "17976    SPH0027                Sphero BB-8 Trainer Star Wars Robot   \n",
              "15663    PAC1930  Second hand - Apple iMac 215 \"Core i5 Quad-Cor...   \n",
              "2279     TRA0011  Transcend JetDrive Lite 330 64GB Macbook Pro R...   \n",
              "16748    GTE0103  G-Technology G-RAID 8TB RAID Hard Drive USB 3 ...   \n",
              "17158  OWC0232-2     Mac OWC Memory 4GB (2x2GB) 667MHz DDR2 FB-DIMM   \n",
              "3010     PAR0055            Jumping Parrot Drone Red Night Marshall   \n",
              "707      PAC0500  Apple Mac Pro six cores 35GHz | 64GB RAM | 1TB...   \n",
              "16981    BNQ0056  PD3200U Monitor Benq 32 \"4K UHD professional d...   \n",
              "18948    GTE0129  G-Technology G-SPEED XL 64TB RAID Thunderbolt ...   \n",
              "2915   SAN0040-A   Open - Ultra SanDisk Ultra 64GB USB 3.0 PenDrive   \n",
              "13482    SEA0099  Hybrid Hard Drive Seagate 2TB FireCuda SSHD 35...   \n",
              "8586     PAC1223  Apple iMac 27 \"Core i5 3.2GHz Retina 5K | 8GB ...   \n",
              "18059    GTE0115  G-Technology G-DRIVE mobile SSD R-Series 1TB U...   \n",
              "6183     PAC1065  Apple iMac 27 \"Core i7 Retina 5K 4GHz | 16GB |...   \n",
              "377      REP0052               Color change to White Apple iPhone 4   \n",
              "14086    APP1883  Apple MacBook Pro 15 \"Core i7 Touch Bar 26GHz ...   \n",
              "11217    QNA0169       QNAP TS-531P | 2GB RAM Mac and PC Server NAS   \n",
              "1607     BLL0034              Soba BlueLounge Black cable organizer   \n",
              "17313    LAC0237  LaCie d2 Quadra 6TB External Hard Drive USB 3....   \n",
              "10939    LGE0026          LG 23MP67VQ-P LCD Monitor 23 \"1920 x 1080   \n",
              "15153  WAC0097-A          Open - Wacom Intuos Pro M Graphics Tablet   \n",
              "\n",
              "                                                    desc    price promo_price  \\\n",
              "1441            External Hard Disk 1 bay for Mac and PC.   199.00   1.579.945   \n",
              "15381  Repair service including parts and labor for i...      NaN   1.299.903   \n",
              "1031   External connection box with eSata / FW800 / U...   210.98   1.645.842   \n",
              "2331   SuperSpeed ​​USB 3.0 PCI adapter ExpressCard /...    74.90      74.899   \n",
              "11458  Bluetooth small with protective canvas for iPh...    59.99     459.897   \n",
              "369    Repair service including parts and labor for i...    49.99     499.899   \n",
              "445                             Adapter mini DVI to DVI.    18.99     109.904   \n",
              "15247  Graphic tablet with pen and touch digital tool...   199.99   1.357.747   \n",
              "17208  1TB SSD external drive with USB-C connection f...   399.99   3.867.934   \n",
              "18922  submersible and resistant to extreme condition...    89.99      42.729   \n",
              "17998  Compatible with protective sheath 97 inches Ca...    49.55     369.897   \n",
              "15501     Wireless Storage 128GB for iPhone / iPad / Mac   104.00     562.051   \n",
              "2720                 Expansion unit 12 RackStation bays.  3299.98  32.998.999   \n",
              "17627  Ultrathin silicone case and microfiber premium...    39.00     370.006   \n",
              "11698  multi-touch graphics tablet with pen natural p...      NaN  13.999.906   \n",
              "16738  Durable and flexible strap sports lockable cli...    59.00     589.996   \n",
              "12686  Ultrathin silicone case and microfiber premium...    39.00     389.995   \n",
              "11        Headphones iPhone iPad iPad 2 iPad 3 and iPod.    49.99     449.878   \n",
              "10868                New iPad Pro 12.9 inch 128GB Wi-Fi.  1009.00  10.128.111   \n",
              "14757  960GB SSD expansion MacBook Air 11-inch MacBoo...   529.99   4.796.434   \n",
              "12279  Wireless Portable Hard Drive USB 3.0 Wi-Fi Mac...   159.99   1.869.946   \n",
              "11368  And adapter card memory 128 GB microSDXC Class...      NaN     502.803   \n",
              "17816  Scalable NAS server with transcoding 4K: 4-cor...  1269.35  10.401.789   \n",
              "399    Repair service including parts and labor for i...    69.99     699.899   \n",
              "14622  2TB External Hard Drive USB 3.0 with Mac and P...   124.99     949.947   \n",
              "2902   Western Digital hard drive hybrid Mac and PC 4...   179.99   1.799.875   \n",
              "13510  Cover with compact design and wear resistant m...    19.99     159.902   \n",
              "14565  SSD upgrade kit 1TB + 16GB 1600MHz RAM for Mac...      NaN   4.675.839   \n",
              "14595  RAM 4GB 1600MHZ SO-DIMM MacBook Pro (2012) Mac...    45.99     459.897   \n",
              "17976  Smartoy sphere droid BB-8 Star Wars remote Blu...   169.99   1.399.897   \n",
              "15663  IMac used i5 215 inch quad-core 27GHz | 8GB RA...  1199.00   8.355.901   \n",
              "2279   MLC memory card 64GB for Macbooks Retina 13 in...      NaN     452.806   \n",
              "16748  8TB RAID disk with 2 bays and removable disks ...   683.99   5.599.941   \n",
              "17158              RAM 4GB (2x2GB) for Mac Pro 2006-2008    55.98     529.895   \n",
              "3010   Vaulter remote control vehicle s night with LE...   159.90   1.399.002   \n",
              "707    New Mac Pro with 64GB of RAM 6 cores and 1TB F...  6809.00  58.039.901   \n",
              "16981  32 inch monitor with 100% sRGB 4K height adjus...   773.00   7.729.988   \n",
              "18948  64TB external storage and Thunderbolt connecti...  6638.99  53.999.941   \n",
              "2915   USB 3.0 flash drive 64GB USB Flash Drive Mac a...    31.00     176.946   \n",
              "13482  HDD SSHD 2TB SATA interface 6 GB / s and 7200 ...   139.99     990.034   \n",
              "8586   IMac desktop computer 27 inch 8GB RAM 5K Retin...  2969.00  26.179.899   \n",
              "18059  SSD USB 3.1 interface Resistive Gen 2 (10Gb / ...   402.99   3.439.945   \n",
              "6183   IMac desktop computer 27 inch 5K Retina i7 4GH...  3709.00  31.999.902   \n",
              "377                    It is including parts and labor..    94.21   1.139.941   \n",
              "14086  New MacBook Pro 15-inch Touch Bar to 26GHz Cor...  4619.00  43.945.845   \n",
              "11217  4-bay NAS server 2GB RAM and remote for Mac an...   543.29   5.199.007   \n",
              "1607         Cable Organizer for iPhone iPad Mac and PC.    24.95     209.935   \n",
              "17313  6TB external hard drive with USB 3.0 eSATA and...   309.00   2.499.945   \n",
              "10939             Monitor 23-inch IPS 5ms response time.   169.00   1.659.902   \n",
              "15153  Special edition professional graphics tablet w...   379.99   2.908.075   \n",
              "\n",
              "       in_stock      type  \n",
              "1441          0  11935397  \n",
              "15381         0  1,44E+11  \n",
              "1031          1  11935397  \n",
              "2331          0      1276  \n",
              "11458         0      5398  \n",
              "369           0  1,44E+11  \n",
              "445           0      1325  \n",
              "15247         0      1298  \n",
              "17208         1  11935397  \n",
              "18922         1  11865403  \n",
              "17998         1  12635403  \n",
              "15501         0      1298  \n",
              "2720          0  12175397  \n",
              "17627         0  11865403  \n",
              "11698         0      1405  \n",
              "16738         0      2449  \n",
              "12686         0  11865403  \n",
              "11            0      5384  \n",
              "10868         0      1714  \n",
              "14757         0      1298  \n",
              "12279         0  11935397  \n",
              "11368         0  57445397  \n",
              "17816         0  12175397  \n",
              "399           0  1,44E+11  \n",
              "14622         0  11935397  \n",
              "2902          0  12655397  \n",
              "13510         0  11865403  \n",
              "14565         1      1433  \n",
              "14595         0      1298  \n",
              "17976         1  11905404  \n",
              "15663         0      1282  \n",
              "2279          0  57445397  \n",
              "16748         1  11935397  \n",
              "17158         0      1364  \n",
              "3010          0  11905404  \n",
              "707           0      1282  \n",
              "16981         0      1296  \n",
              "18948         0  11935397  \n",
              "2915          0      1298  \n",
              "13482         1  12655397  \n",
              "8586          0      1282  \n",
              "18059         0  12215397  \n",
              "6183          0  5,74E+15  \n",
              "377           0  1,44E+11  \n",
              "14086         0      2158  \n",
              "11217         0  12175397  \n",
              "1607          0      1230  \n",
              "17313         0  11935397  \n",
              "10939         0      1296  \n",
              "15153         0      1298  "
            ],
            "text/html": [
              "\n",
              "  <div id=\"df-a094fba1-9481-4baa-82c1-400eb03f95f2\">\n",
              "    <div class=\"colab-df-container\">\n",
              "      <div>\n",
              "<style scoped>\n",
              "    .dataframe tbody tr th:only-of-type {\n",
              "        vertical-align: middle;\n",
              "    }\n",
              "\n",
              "    .dataframe tbody tr th {\n",
              "        vertical-align: top;\n",
              "    }\n",
              "\n",
              "    .dataframe thead th {\n",
              "        text-align: right;\n",
              "    }\n",
              "</style>\n",
              "<table border=\"1\" class=\"dataframe\">\n",
              "  <thead>\n",
              "    <tr style=\"text-align: right;\">\n",
              "      <th></th>\n",
              "      <th>sku</th>\n",
              "      <th>name</th>\n",
              "      <th>desc</th>\n",
              "      <th>price</th>\n",
              "      <th>promo_price</th>\n",
              "      <th>in_stock</th>\n",
              "      <th>type</th>\n",
              "    </tr>\n",
              "  </thead>\n",
              "  <tbody>\n",
              "    <tr>\n",
              "      <th>1441</th>\n",
              "      <td>LAC0146</td>\n",
              "      <td>LaCie d2 USB 3.0 Hard Disk 4TB</td>\n",
              "      <td>External Hard Disk 1 bay for Mac and PC.</td>\n",
              "      <td>199.00</td>\n",
              "      <td>1.579.945</td>\n",
              "      <td>0</td>\n",
              "      <td>11935397</td>\n",
              "    </tr>\n",
              "    <tr>\n",
              "      <th>15381</th>\n",
              "      <td>REP0340</td>\n",
              "      <td>LCD screen repair iPad 4</td>\n",
              "      <td>Repair service including parts and labor for i...</td>\n",
              "      <td>NaN</td>\n",
              "      <td>1.299.903</td>\n",
              "      <td>0</td>\n",
              "      <td>1,44E+11</td>\n",
              "    </tr>\n",
              "    <tr>\n",
              "      <th>1031</th>\n",
              "      <td>PAC0434</td>\n",
              "      <td>OWC Mercury Elite Pro + 2TB</td>\n",
              "      <td>External connection box with eSata / FW800 / U...</td>\n",
              "      <td>210.98</td>\n",
              "      <td>1.645.842</td>\n",
              "      <td>1</td>\n",
              "      <td>11935397</td>\n",
              "    </tr>\n",
              "    <tr>\n",
              "      <th>2331</th>\n",
              "      <td>SNN0046</td>\n",
              "      <td>Sonnet SuperSpeed ​​USB 3.0 ExpressCard / 34</td>\n",
              "      <td>SuperSpeed ​​USB 3.0 PCI adapter ExpressCard /...</td>\n",
              "      <td>74.90</td>\n",
              "      <td>74.899</td>\n",
              "      <td>0</td>\n",
              "      <td>1276</td>\n",
              "    </tr>\n",
              "    <tr>\n",
              "      <th>11458</th>\n",
              "      <td>MRL0008</td>\n",
              "      <td>Brown Marley Chant Mini Wireless Speaker</td>\n",
              "      <td>Bluetooth small with protective canvas for iPh...</td>\n",
              "      <td>59.99</td>\n",
              "      <td>459.897</td>\n",
              "      <td>0</td>\n",
              "      <td>5398</td>\n",
              "    </tr>\n",
              "    <tr>\n",
              "      <th>369</th>\n",
              "      <td>REP0036</td>\n",
              "      <td>Full screen repair iPhone 4</td>\n",
              "      <td>Repair service including parts and labor for i...</td>\n",
              "      <td>49.99</td>\n",
              "      <td>499.899</td>\n",
              "      <td>0</td>\n",
              "      <td>1,44E+11</td>\n",
              "    </tr>\n",
              "    <tr>\n",
              "      <th>445</th>\n",
              "      <td>NTE0027</td>\n",
              "      <td>NewerTech Mini DVI to DVI Adapter</td>\n",
              "      <td>Adapter mini DVI to DVI.</td>\n",
              "      <td>18.99</td>\n",
              "      <td>109.904</td>\n",
              "      <td>0</td>\n",
              "      <td>1325</td>\n",
              "    </tr>\n",
              "    <tr>\n",
              "      <th>15247</th>\n",
              "      <td>WAC0167-A</td>\n",
              "      <td>Open - Wacom Intuos Creative Art Pen &amp; Touch M...</td>\n",
              "      <td>Graphic tablet with pen and touch digital tool...</td>\n",
              "      <td>199.99</td>\n",
              "      <td>1.357.747</td>\n",
              "      <td>0</td>\n",
              "      <td>1298</td>\n",
              "    </tr>\n",
              "    <tr>\n",
              "      <th>17208</th>\n",
              "      <td>WDT0384</td>\n",
              "      <td>WD My Passport 1TB SSD Drive SSD external USB-C</td>\n",
              "      <td>1TB SSD external drive with USB-C connection f...</td>\n",
              "      <td>399.99</td>\n",
              "      <td>3.867.934</td>\n",
              "      <td>1</td>\n",
              "      <td>11935397</td>\n",
              "    </tr>\n",
              "    <tr>\n",
              "      <th>18922</th>\n",
              "      <td>LIF0114-A</td>\n",
              "      <td>Open - LifeProof nüüd Submersible iPhone Case ...</td>\n",
              "      <td>submersible and resistant to extreme condition...</td>\n",
              "      <td>89.99</td>\n",
              "      <td>42.729</td>\n",
              "      <td>1</td>\n",
              "      <td>11865403</td>\n",
              "    </tr>\n",
              "    <tr>\n",
              "      <th>17998</th>\n",
              "      <td>STM0101</td>\n",
              "      <td>Dux STM iPad Case 97 \"Black 2017</td>\n",
              "      <td>Compatible with protective sheath 97 inches Ca...</td>\n",
              "      <td>49.55</td>\n",
              "      <td>369.897</td>\n",
              "      <td>1</td>\n",
              "      <td>12635403</td>\n",
              "    </tr>\n",
              "    <tr>\n",
              "      <th>15501</th>\n",
              "      <td>SAN0110-A</td>\n",
              "      <td>Open - Sandisk Wireless Connect Wireless Flash...</td>\n",
              "      <td>Wireless Storage 128GB for iPhone / iPad / Mac</td>\n",
              "      <td>104.00</td>\n",
              "      <td>562.051</td>\n",
              "      <td>0</td>\n",
              "      <td>1298</td>\n",
              "    </tr>\n",
              "    <tr>\n",
              "      <th>2720</th>\n",
              "      <td>SYN0120</td>\n",
              "      <td>Synology RXD1215sas expansion module for Mac a...</td>\n",
              "      <td>Expansion unit 12 RackStation bays.</td>\n",
              "      <td>3299.98</td>\n",
              "      <td>32.998.999</td>\n",
              "      <td>0</td>\n",
              "      <td>12175397</td>\n",
              "    </tr>\n",
              "    <tr>\n",
              "      <th>17627</th>\n",
              "      <td>APP2512</td>\n",
              "      <td>Silicon Case Cover Apple iPhone 8/7 Cobalt Blue</td>\n",
              "      <td>Ultrathin silicone case and microfiber premium...</td>\n",
              "      <td>39.00</td>\n",
              "      <td>370.006</td>\n",
              "      <td>0</td>\n",
              "      <td>11865403</td>\n",
              "    </tr>\n",
              "    <tr>\n",
              "      <th>11698</th>\n",
              "      <td>WAC0187</td>\n",
              "      <td>Wacom Cintiq Companion 2 DTH-W1310T for Mac an...</td>\n",
              "      <td>multi-touch graphics tablet with pen natural p...</td>\n",
              "      <td>NaN</td>\n",
              "      <td>13.999.906</td>\n",
              "      <td>0</td>\n",
              "      <td>1405</td>\n",
              "    </tr>\n",
              "    <tr>\n",
              "      <th>16738</th>\n",
              "      <td>APP2103</td>\n",
              "      <td>Apple Correa Sport 38mm Blue Haze</td>\n",
              "      <td>Durable and flexible strap sports lockable cli...</td>\n",
              "      <td>59.00</td>\n",
              "      <td>589.996</td>\n",
              "      <td>0</td>\n",
              "      <td>2449</td>\n",
              "    </tr>\n",
              "    <tr>\n",
              "      <th>12686</th>\n",
              "      <td>APP1558</td>\n",
              "      <td>Apple iPhone Silicone Case Case 6 / 6s Menta</td>\n",
              "      <td>Ultrathin silicone case and microfiber premium...</td>\n",
              "      <td>39.00</td>\n",
              "      <td>389.995</td>\n",
              "      <td>0</td>\n",
              "      <td>11865403</td>\n",
              "    </tr>\n",
              "    <tr>\n",
              "      <th>11</th>\n",
              "      <td>SEN0021</td>\n",
              "      <td>Sennheiser CX 300-II Precision headphones iPho...</td>\n",
              "      <td>Headphones iPhone iPad iPad 2 iPad 3 and iPod.</td>\n",
              "      <td>49.99</td>\n",
              "      <td>449.878</td>\n",
              "      <td>0</td>\n",
              "      <td>5384</td>\n",
              "    </tr>\n",
              "    <tr>\n",
              "      <th>10868</th>\n",
              "      <td>APP1206</td>\n",
              "      <td>Apple iPad Pro 12.9 \"Wi-Fi 128GB Gold</td>\n",
              "      <td>New iPad Pro 12.9 inch 128GB Wi-Fi.</td>\n",
              "      <td>1009.00</td>\n",
              "      <td>10.128.111</td>\n",
              "      <td>0</td>\n",
              "      <td>1714</td>\n",
              "    </tr>\n",
              "    <tr>\n",
              "      <th>14757</th>\n",
              "      <td>OWC0157-A</td>\n",
              "      <td>Open - expansion Kit OWC Aura SSD 960GB 6G Mac...</td>\n",
              "      <td>960GB SSD expansion MacBook Air 11-inch MacBoo...</td>\n",
              "      <td>529.99</td>\n",
              "      <td>4.796.434</td>\n",
              "      <td>0</td>\n",
              "      <td>1298</td>\n",
              "    </tr>\n",
              "    <tr>\n",
              "      <th>12279</th>\n",
              "      <td>LAC0184</td>\n",
              "      <td>Fuel Drive USB 3.0 LaCie 1TB Wi-Fi</td>\n",
              "      <td>Wireless Portable Hard Drive USB 3.0 Wi-Fi Mac...</td>\n",
              "      <td>159.99</td>\n",
              "      <td>1.869.946</td>\n",
              "      <td>0</td>\n",
              "      <td>11935397</td>\n",
              "    </tr>\n",
              "    <tr>\n",
              "      <th>11368</th>\n",
              "      <td>SAN0138</td>\n",
              "      <td>SanDisk Ultra microSDXC 128GB Memory Card + SD...</td>\n",
              "      <td>And adapter card memory 128 GB microSDXC Class...</td>\n",
              "      <td>NaN</td>\n",
              "      <td>502.803</td>\n",
              "      <td>0</td>\n",
              "      <td>57445397</td>\n",
              "    </tr>\n",
              "    <tr>\n",
              "      <th>17816</th>\n",
              "      <td>PAC2215</td>\n",
              "      <td>Synology DS718 + NAS Server | 10GB RAM | 16TB ...</td>\n",
              "      <td>Scalable NAS server with transcoding 4K: 4-cor...</td>\n",
              "      <td>1269.35</td>\n",
              "      <td>10.401.789</td>\n",
              "      <td>0</td>\n",
              "      <td>12175397</td>\n",
              "    </tr>\n",
              "    <tr>\n",
              "      <th>399</th>\n",
              "      <td>REP0093</td>\n",
              "      <td>iPad 2 battery repair</td>\n",
              "      <td>Repair service including parts and labor for i...</td>\n",
              "      <td>69.99</td>\n",
              "      <td>699.899</td>\n",
              "      <td>0</td>\n",
              "      <td>1,44E+11</td>\n",
              "    </tr>\n",
              "    <tr>\n",
              "      <th>14622</th>\n",
              "      <td>WDT0355</td>\n",
              "      <td>WD My Passport 2TB External Hard Drive USB 3.0...</td>\n",
              "      <td>2TB External Hard Drive USB 3.0 with Mac and P...</td>\n",
              "      <td>124.99</td>\n",
              "      <td>949.947</td>\n",
              "      <td>0</td>\n",
              "      <td>11935397</td>\n",
              "    </tr>\n",
              "    <tr>\n",
              "      <th>2902</th>\n",
              "      <td>WDT0287</td>\n",
              "      <td>WD 4TB SSHD Blue 8GB SSD 35 \"SATA</td>\n",
              "      <td>Western Digital hard drive hybrid Mac and PC 4...</td>\n",
              "      <td>179.99</td>\n",
              "      <td>1.799.875</td>\n",
              "      <td>0</td>\n",
              "      <td>12655397</td>\n",
              "    </tr>\n",
              "    <tr>\n",
              "      <th>13510</th>\n",
              "      <td>BEL0292</td>\n",
              "      <td>Belkin SheerForce Air Protect Case iPhone 6 / ...</td>\n",
              "      <td>Cover with compact design and wear resistant m...</td>\n",
              "      <td>19.99</td>\n",
              "      <td>159.902</td>\n",
              "      <td>0</td>\n",
              "      <td>11865403</td>\n",
              "    </tr>\n",
              "    <tr>\n",
              "      <th>14565</th>\n",
              "      <td>PAC1558</td>\n",
              "      <td>SSD Crucial MX300 expansion kit 1TB + 16GB 160...</td>\n",
              "      <td>SSD upgrade kit 1TB + 16GB 1600MHz RAM for Mac...</td>\n",
              "      <td>NaN</td>\n",
              "      <td>4.675.839</td>\n",
              "      <td>1</td>\n",
              "      <td>1433</td>\n",
              "    </tr>\n",
              "    <tr>\n",
              "      <th>14595</th>\n",
              "      <td>CRU0025-A</td>\n",
              "      <td>Open - Crucial memory 4GB SO-DIMM DDR3 1600MHz</td>\n",
              "      <td>RAM 4GB 1600MHZ SO-DIMM MacBook Pro (2012) Mac...</td>\n",
              "      <td>45.99</td>\n",
              "      <td>459.897</td>\n",
              "      <td>0</td>\n",
              "      <td>1298</td>\n",
              "    </tr>\n",
              "    <tr>\n",
              "      <th>17976</th>\n",
              "      <td>SPH0027</td>\n",
              "      <td>Sphero BB-8 Trainer Star Wars Robot</td>\n",
              "      <td>Smartoy sphere droid BB-8 Star Wars remote Blu...</td>\n",
              "      <td>169.99</td>\n",
              "      <td>1.399.897</td>\n",
              "      <td>1</td>\n",
              "      <td>11905404</td>\n",
              "    </tr>\n",
              "    <tr>\n",
              "      <th>15663</th>\n",
              "      <td>PAC1930</td>\n",
              "      <td>Second hand - Apple iMac 215 \"Core i5 Quad-Cor...</td>\n",
              "      <td>IMac used i5 215 inch quad-core 27GHz | 8GB RA...</td>\n",
              "      <td>1199.00</td>\n",
              "      <td>8.355.901</td>\n",
              "      <td>0</td>\n",
              "      <td>1282</td>\n",
              "    </tr>\n",
              "    <tr>\n",
              "      <th>2279</th>\n",
              "      <td>TRA0011</td>\n",
              "      <td>Transcend JetDrive Lite 330 64GB Macbook Pro R...</td>\n",
              "      <td>MLC memory card 64GB for Macbooks Retina 13 in...</td>\n",
              "      <td>NaN</td>\n",
              "      <td>452.806</td>\n",
              "      <td>0</td>\n",
              "      <td>57445397</td>\n",
              "    </tr>\n",
              "    <tr>\n",
              "      <th>16748</th>\n",
              "      <td>GTE0103</td>\n",
              "      <td>G-Technology G-RAID 8TB RAID Hard Drive USB 3 ...</td>\n",
              "      <td>8TB RAID disk with 2 bays and removable disks ...</td>\n",
              "      <td>683.99</td>\n",
              "      <td>5.599.941</td>\n",
              "      <td>1</td>\n",
              "      <td>11935397</td>\n",
              "    </tr>\n",
              "    <tr>\n",
              "      <th>17158</th>\n",
              "      <td>OWC0232-2</td>\n",
              "      <td>Mac OWC Memory 4GB (2x2GB) 667MHz DDR2 FB-DIMM</td>\n",
              "      <td>RAM 4GB (2x2GB) for Mac Pro 2006-2008</td>\n",
              "      <td>55.98</td>\n",
              "      <td>529.895</td>\n",
              "      <td>0</td>\n",
              "      <td>1364</td>\n",
              "    </tr>\n",
              "    <tr>\n",
              "      <th>3010</th>\n",
              "      <td>PAR0055</td>\n",
              "      <td>Jumping Parrot Drone Red Night Marshall</td>\n",
              "      <td>Vaulter remote control vehicle s night with LE...</td>\n",
              "      <td>159.90</td>\n",
              "      <td>1.399.002</td>\n",
              "      <td>0</td>\n",
              "      <td>11905404</td>\n",
              "    </tr>\n",
              "    <tr>\n",
              "      <th>707</th>\n",
              "      <td>PAC0500</td>\n",
              "      <td>Apple Mac Pro six cores 35GHz | 64GB RAM | 1TB...</td>\n",
              "      <td>New Mac Pro with 64GB of RAM 6 cores and 1TB F...</td>\n",
              "      <td>6809.00</td>\n",
              "      <td>58.039.901</td>\n",
              "      <td>0</td>\n",
              "      <td>1282</td>\n",
              "    </tr>\n",
              "    <tr>\n",
              "      <th>16981</th>\n",
              "      <td>BNQ0056</td>\n",
              "      <td>PD3200U Monitor Benq 32 \"4K UHD professional d...</td>\n",
              "      <td>32 inch monitor with 100% sRGB 4K height adjus...</td>\n",
              "      <td>773.00</td>\n",
              "      <td>7.729.988</td>\n",
              "      <td>0</td>\n",
              "      <td>1296</td>\n",
              "    </tr>\n",
              "    <tr>\n",
              "      <th>18948</th>\n",
              "      <td>GTE0129</td>\n",
              "      <td>G-Technology G-SPEED XL 64TB RAID Thunderbolt ...</td>\n",
              "      <td>64TB external storage and Thunderbolt connecti...</td>\n",
              "      <td>6638.99</td>\n",
              "      <td>53.999.941</td>\n",
              "      <td>0</td>\n",
              "      <td>11935397</td>\n",
              "    </tr>\n",
              "    <tr>\n",
              "      <th>2915</th>\n",
              "      <td>SAN0040-A</td>\n",
              "      <td>Open - Ultra SanDisk Ultra 64GB USB 3.0 PenDrive</td>\n",
              "      <td>USB 3.0 flash drive 64GB USB Flash Drive Mac a...</td>\n",
              "      <td>31.00</td>\n",
              "      <td>176.946</td>\n",
              "      <td>0</td>\n",
              "      <td>1298</td>\n",
              "    </tr>\n",
              "    <tr>\n",
              "      <th>13482</th>\n",
              "      <td>SEA0099</td>\n",
              "      <td>Hybrid Hard Drive Seagate 2TB FireCuda SSHD 35...</td>\n",
              "      <td>HDD SSHD 2TB SATA interface 6 GB / s and 7200 ...</td>\n",
              "      <td>139.99</td>\n",
              "      <td>990.034</td>\n",
              "      <td>1</td>\n",
              "      <td>12655397</td>\n",
              "    </tr>\n",
              "    <tr>\n",
              "      <th>8586</th>\n",
              "      <td>PAC1223</td>\n",
              "      <td>Apple iMac 27 \"Core i5 3.2GHz Retina 5K | 8GB ...</td>\n",
              "      <td>IMac desktop computer 27 inch 8GB RAM 5K Retin...</td>\n",
              "      <td>2969.00</td>\n",
              "      <td>26.179.899</td>\n",
              "      <td>0</td>\n",
              "      <td>1282</td>\n",
              "    </tr>\n",
              "    <tr>\n",
              "      <th>18059</th>\n",
              "      <td>GTE0115</td>\n",
              "      <td>G-Technology G-DRIVE mobile SSD R-Series 1TB U...</td>\n",
              "      <td>SSD USB 3.1 interface Resistive Gen 2 (10Gb / ...</td>\n",
              "      <td>402.99</td>\n",
              "      <td>3.439.945</td>\n",
              "      <td>0</td>\n",
              "      <td>12215397</td>\n",
              "    </tr>\n",
              "    <tr>\n",
              "      <th>6183</th>\n",
              "      <td>PAC1065</td>\n",
              "      <td>Apple iMac 27 \"Core i7 Retina 5K 4GHz | 16GB |...</td>\n",
              "      <td>IMac desktop computer 27 inch 5K Retina i7 4GH...</td>\n",
              "      <td>3709.00</td>\n",
              "      <td>31.999.902</td>\n",
              "      <td>0</td>\n",
              "      <td>5,74E+15</td>\n",
              "    </tr>\n",
              "    <tr>\n",
              "      <th>377</th>\n",
              "      <td>REP0052</td>\n",
              "      <td>Color change to White Apple iPhone 4</td>\n",
              "      <td>It is including parts and labor..</td>\n",
              "      <td>94.21</td>\n",
              "      <td>1.139.941</td>\n",
              "      <td>0</td>\n",
              "      <td>1,44E+11</td>\n",
              "    </tr>\n",
              "    <tr>\n",
              "      <th>14086</th>\n",
              "      <td>APP1883</td>\n",
              "      <td>Apple MacBook Pro 15 \"Core i7 Touch Bar 26GHz ...</td>\n",
              "      <td>New MacBook Pro 15-inch Touch Bar to 26GHz Cor...</td>\n",
              "      <td>4619.00</td>\n",
              "      <td>43.945.845</td>\n",
              "      <td>0</td>\n",
              "      <td>2158</td>\n",
              "    </tr>\n",
              "    <tr>\n",
              "      <th>11217</th>\n",
              "      <td>QNA0169</td>\n",
              "      <td>QNAP TS-531P | 2GB RAM Mac and PC Server NAS</td>\n",
              "      <td>4-bay NAS server 2GB RAM and remote for Mac an...</td>\n",
              "      <td>543.29</td>\n",
              "      <td>5.199.007</td>\n",
              "      <td>0</td>\n",
              "      <td>12175397</td>\n",
              "    </tr>\n",
              "    <tr>\n",
              "      <th>1607</th>\n",
              "      <td>BLL0034</td>\n",
              "      <td>Soba BlueLounge Black cable organizer</td>\n",
              "      <td>Cable Organizer for iPhone iPad Mac and PC.</td>\n",
              "      <td>24.95</td>\n",
              "      <td>209.935</td>\n",
              "      <td>0</td>\n",
              "      <td>1230</td>\n",
              "    </tr>\n",
              "    <tr>\n",
              "      <th>17313</th>\n",
              "      <td>LAC0237</td>\n",
              "      <td>LaCie d2 Quadra 6TB External Hard Drive USB 3....</td>\n",
              "      <td>6TB external hard drive with USB 3.0 eSATA and...</td>\n",
              "      <td>309.00</td>\n",
              "      <td>2.499.945</td>\n",
              "      <td>0</td>\n",
              "      <td>11935397</td>\n",
              "    </tr>\n",
              "    <tr>\n",
              "      <th>10939</th>\n",
              "      <td>LGE0026</td>\n",
              "      <td>LG 23MP67VQ-P LCD Monitor 23 \"1920 x 1080</td>\n",
              "      <td>Monitor 23-inch IPS 5ms response time.</td>\n",
              "      <td>169.00</td>\n",
              "      <td>1.659.902</td>\n",
              "      <td>0</td>\n",
              "      <td>1296</td>\n",
              "    </tr>\n",
              "    <tr>\n",
              "      <th>15153</th>\n",
              "      <td>WAC0097-A</td>\n",
              "      <td>Open - Wacom Intuos Pro M Graphics Tablet</td>\n",
              "      <td>Special edition professional graphics tablet w...</td>\n",
              "      <td>379.99</td>\n",
              "      <td>2.908.075</td>\n",
              "      <td>0</td>\n",
              "      <td>1298</td>\n",
              "    </tr>\n",
              "  </tbody>\n",
              "</table>\n",
              "</div>\n",
              "      <button class=\"colab-df-convert\" onclick=\"convertToInteractive('df-a094fba1-9481-4baa-82c1-400eb03f95f2')\"\n",
              "              title=\"Convert this dataframe to an interactive table.\"\n",
              "              style=\"display:none;\">\n",
              "        \n",
              "  <svg xmlns=\"http://www.w3.org/2000/svg\" height=\"24px\"viewBox=\"0 0 24 24\"\n",
              "       width=\"24px\">\n",
              "    <path d=\"M0 0h24v24H0V0z\" fill=\"none\"/>\n",
              "    <path d=\"M18.56 5.44l.94 2.06.94-2.06 2.06-.94-2.06-.94-.94-2.06-.94 2.06-2.06.94zm-11 1L8.5 8.5l.94-2.06 2.06-.94-2.06-.94L8.5 2.5l-.94 2.06-2.06.94zm10 10l.94 2.06.94-2.06 2.06-.94-2.06-.94-.94-2.06-.94 2.06-2.06.94z\"/><path d=\"M17.41 7.96l-1.37-1.37c-.4-.4-.92-.59-1.43-.59-.52 0-1.04.2-1.43.59L10.3 9.45l-7.72 7.72c-.78.78-.78 2.05 0 2.83L4 21.41c.39.39.9.59 1.41.59.51 0 1.02-.2 1.41-.59l7.78-7.78 2.81-2.81c.8-.78.8-2.07 0-2.86zM5.41 20L4 18.59l7.72-7.72 1.47 1.35L5.41 20z\"/>\n",
              "  </svg>\n",
              "      </button>\n",
              "      \n",
              "  <style>\n",
              "    .colab-df-container {\n",
              "      display:flex;\n",
              "      flex-wrap:wrap;\n",
              "      gap: 12px;\n",
              "    }\n",
              "\n",
              "    .colab-df-convert {\n",
              "      background-color: #E8F0FE;\n",
              "      border: none;\n",
              "      border-radius: 50%;\n",
              "      cursor: pointer;\n",
              "      display: none;\n",
              "      fill: #1967D2;\n",
              "      height: 32px;\n",
              "      padding: 0 0 0 0;\n",
              "      width: 32px;\n",
              "    }\n",
              "\n",
              "    .colab-df-convert:hover {\n",
              "      background-color: #E2EBFA;\n",
              "      box-shadow: 0px 1px 2px rgba(60, 64, 67, 0.3), 0px 1px 3px 1px rgba(60, 64, 67, 0.15);\n",
              "      fill: #174EA6;\n",
              "    }\n",
              "\n",
              "    [theme=dark] .colab-df-convert {\n",
              "      background-color: #3B4455;\n",
              "      fill: #D2E3FC;\n",
              "    }\n",
              "\n",
              "    [theme=dark] .colab-df-convert:hover {\n",
              "      background-color: #434B5C;\n",
              "      box-shadow: 0px 1px 3px 1px rgba(0, 0, 0, 0.15);\n",
              "      filter: drop-shadow(0px 1px 2px rgba(0, 0, 0, 0.3));\n",
              "      fill: #FFFFFF;\n",
              "    }\n",
              "  </style>\n",
              "\n",
              "      <script>\n",
              "        const buttonEl =\n",
              "          document.querySelector('#df-a094fba1-9481-4baa-82c1-400eb03f95f2 button.colab-df-convert');\n",
              "        buttonEl.style.display =\n",
              "          google.colab.kernel.accessAllowed ? 'block' : 'none';\n",
              "\n",
              "        async function convertToInteractive(key) {\n",
              "          const element = document.querySelector('#df-a094fba1-9481-4baa-82c1-400eb03f95f2');\n",
              "          const dataTable =\n",
              "            await google.colab.kernel.invokeFunction('convertToInteractive',\n",
              "                                                     [key], {});\n",
              "          if (!dataTable) return;\n",
              "\n",
              "          const docLinkHtml = 'Like what you see? Visit the ' +\n",
              "            '<a target=\"_blank\" href=https://colab.research.google.com/notebooks/data_table.ipynb>data table notebook</a>'\n",
              "            + ' to learn more about interactive tables.';\n",
              "          element.innerHTML = '';\n",
              "          dataTable['output_type'] = 'display_data';\n",
              "          await google.colab.output.renderOutput(dataTable, element);\n",
              "          const docLink = document.createElement('div');\n",
              "          docLink.innerHTML = docLinkHtml;\n",
              "          element.appendChild(docLink);\n",
              "        }\n",
              "      </script>\n",
              "    </div>\n",
              "  </div>\n",
              "  "
            ]
          },
          "metadata": {},
          "execution_count": 24
        }
      ]
    },
    {
      "cell_type": "code",
      "source": [
        "# As 93% of the data seems untrustworthy, and deleting so many rows will leave us without products, we delete this column.\n",
        "products_cl = products.drop(columns=[\"promo_price\"])"
      ],
      "metadata": {
        "id": "9L65LbwdjXaM"
      },
      "execution_count": null,
      "outputs": []
    },
    {
      "cell_type": "code",
      "source": [],
      "metadata": {
        "id": "1z44YdC_z64O"
      },
      "execution_count": null,
      "outputs": []
    },
    {
      "cell_type": "markdown",
      "source": [
        "##`Orders`\n",
        "\n",
        "\n"
      ],
      "metadata": {
        "id": "1NW2P37eGMpu"
      }
    },
    {
      "cell_type": "markdown",
      "source": [
        "###Checking for duplicated values"
      ],
      "metadata": {
        "id": "ptqcc_JO0DrG"
      }
    },
    {
      "cell_type": "code",
      "source": [
        "# orders\n",
        "orders.duplicated().sum()"
      ],
      "metadata": {
        "id": "6dVkoUu7wC-b",
        "colab": {
          "base_uri": "https://localhost:8080/"
        },
        "outputId": "dc77fa75-84b7-4e82-a2db-25adb3907399"
      },
      "execution_count": null,
      "outputs": [
        {
          "output_type": "execute_result",
          "data": {
            "text/plain": [
              "0"
            ]
          },
          "metadata": {},
          "execution_count": 26
        }
      ]
    },
    {
      "cell_type": "markdown",
      "source": [
        "###Checking for missing values\n",
        "\n",
        "\n",
        "\n"
      ],
      "metadata": {
        "id": "s6J3giTTzYOS"
      }
    },
    {
      "cell_type": "code",
      "source": [
        "orders.isnull().sum() # To find the total amount of missing values on products.\n"
      ],
      "metadata": {
        "id": "SEddmdjDg5cf",
        "colab": {
          "base_uri": "https://localhost:8080/"
        },
        "outputId": "233cb561-1725-41c2-9b64-eae76cba4ec9"
      },
      "execution_count": null,
      "outputs": [
        {
          "output_type": "execute_result",
          "data": {
            "text/plain": [
              "order_id        0\n",
              "created_date    0\n",
              "total_paid      5\n",
              "state           0\n",
              "dtype: int64"
            ]
          },
          "metadata": {},
          "execution_count": 28
        }
      ]
    },
    {
      "cell_type": "code",
      "source": [
        "orders.isnull().sum() / len(orders) * 100 # To show the percentage rrepresented by this missing values\n"
      ],
      "metadata": {
        "id": "oJrWzf2Yg5co",
        "colab": {
          "base_uri": "https://localhost:8080/"
        },
        "outputId": "d222dc76-a78b-4b5e-e54b-1115c6b39fc9"
      },
      "execution_count": null,
      "outputs": [
        {
          "output_type": "execute_result",
          "data": {
            "text/plain": [
              "order_id        0.000000\n",
              "created_date    0.000000\n",
              "total_paid      0.002204\n",
              "state           0.000000\n",
              "dtype: float64"
            ]
          },
          "metadata": {},
          "execution_count": 27
        }
      ]
    },
    {
      "cell_type": "markdown",
      "source": [
        "As there is such a tiny amount of missing values, we will simply delete these rows, as we have enough data without them."
      ],
      "metadata": {
        "id": "OmifFCMY0OjA"
      }
    },
    {
      "cell_type": "code",
      "source": [
        "orders = orders.loc[~orders.total_paid.isna(), :]"
      ],
      "metadata": {
        "id": "rjiQcONR0TV_"
      },
      "execution_count": null,
      "outputs": []
    },
    {
      "cell_type": "markdown",
      "source": [
        "###Changing datatypes"
      ],
      "metadata": {
        "id": "rCs--jY42xH_"
      }
    },
    {
      "cell_type": "markdown",
      "source": [
        "\n",
        "\n",
        "##`Orderlines`\n",
        " @Filled need to doble check"
      ],
      "metadata": {
        "id": "Q2v5f4VvGTzV"
      }
    },
    {
      "cell_type": "markdown",
      "source": [
        "### Duplicated Values"
      ],
      "metadata": {
        "id": "nCRaWhPX4Yv6"
      }
    },
    {
      "cell_type": "code",
      "source": [
        "orderlines.duplicated().sum()"
      ],
      "metadata": {
        "id": "RL6_iIzZ0ygA",
        "colab": {
          "base_uri": "https://localhost:8080/"
        },
        "outputId": "d2137a10-ec77-4b0f-a5da-37c29ce3f43b"
      },
      "execution_count": null,
      "outputs": [
        {
          "output_type": "execute_result",
          "data": {
            "text/plain": [
              "0"
            ]
          },
          "metadata": {},
          "execution_count": 30
        }
      ]
    },
    {
      "cell_type": "markdown",
      "source": [
        "###Checking for missing values"
      ],
      "metadata": {
        "id": "i4knZZxh2hd4"
      }
    },
    {
      "cell_type": "code",
      "source": [
        "orderlines.isnull().sum() # To find the total amount of missing values on products.\n"
      ],
      "metadata": {
        "id": "nZgT5DwWgE2G"
      },
      "execution_count": null,
      "outputs": []
    },
    {
      "cell_type": "code",
      "source": [
        "orderlines.isnull().sum() / len(orderlines) * 100 # To show the percentage rrepresented by this missing values\n"
      ],
      "metadata": {
        "id": "I_2UhWo6gE2P",
        "colab": {
          "base_uri": "https://localhost:8080/"
        },
        "outputId": "eae18e46-adce-4791-912d-73d5cb79a74e"
      },
      "execution_count": null,
      "outputs": [
        {
          "output_type": "execute_result",
          "data": {
            "text/plain": [
              "id                  0.0\n",
              "id_order            0.0\n",
              "product_id          0.0\n",
              "product_quantity    0.0\n",
              "sku                 0.0\n",
              "unit_price          0.0\n",
              "date                0.0\n",
              "dtype: float64"
            ]
          },
          "metadata": {},
          "execution_count": 36
        }
      ]
    },
    {
      "cell_type": "markdown",
      "source": [
        "###Changing Datatype"
      ],
      "metadata": {
        "id": "6BthEOYMfNuK"
      }
    },
    {
      "cell_type": "markdown",
      "source": [
        "`Date` Into DateType"
      ],
      "metadata": {
        "id": "rxN4xDkWdMLp"
      }
    },
    {
      "cell_type": "code",
      "source": [
        "orderlines.unit_price.str.contains(\"\\d+\\.\\d+\\.\\d+\").value_counts()"
      ],
      "metadata": {
        "id": "3zfOMEmnTjOj",
        "colab": {
          "base_uri": "https://localhost:8080/"
        },
        "outputId": "42bf431c-213d-413b-85d8-c1301e97ddca"
      },
      "execution_count": null,
      "outputs": [
        {
          "output_type": "execute_result",
          "data": {
            "text/plain": [
              "False    257814\n",
              "True      36169\n",
              "Name: unit_price, dtype: int64"
            ]
          },
          "metadata": {},
          "execution_count": 34
        }
      ]
    },
    {
      "cell_type": "code",
      "source": [
        "orderlines[\"date\"] = pd.to_datetime(orderlines[\"date\"])"
      ],
      "metadata": {
        "id": "ozuRKlUKSwj0"
      },
      "execution_count": null,
      "outputs": []
    },
    {
      "cell_type": "markdown",
      "source": [
        "`unit_price` to numeric"
      ],
      "metadata": {
        "id": "VNn9jY0AdUmQ"
      }
    },
    {
      "cell_type": "code",
      "source": [
        "orderlines[\"unit_price\"] = pd.to_numeric(orderlines[\"unit_price\"])\n",
        "# ValueError: Unable to parse string \"1.137.99\" at position 6"
      ],
      "metadata": {
        "id": "9-mCsrbBTW8t",
        "colab": {
          "base_uri": "https://localhost:8080/",
          "height": 294
        },
        "outputId": "20825e74-eaf9-4d5c-bef4-82910b662bc7"
      },
      "execution_count": null,
      "outputs": [
        {
          "output_type": "error",
          "ename": "ValueError",
          "evalue": "ignored",
          "traceback": [
            "\u001b[0;31m---------------------------------------------------------------------------\u001b[0m",
            "\u001b[0;31mValueError\u001b[0m                                Traceback (most recent call last)",
            "\u001b[0;32m/usr/local/lib/python3.10/dist-packages/pandas/_libs/lib.pyx\u001b[0m in \u001b[0;36mpandas._libs.lib.maybe_convert_numeric\u001b[0;34m()\u001b[0m\n",
            "\u001b[0;31mValueError\u001b[0m: Unable to parse string \"1.137.99\"",
            "\nDuring handling of the above exception, another exception occurred:\n",
            "\u001b[0;31mValueError\u001b[0m                                Traceback (most recent call last)",
            "\u001b[0;32m<ipython-input-37-7013e5ef818d>\u001b[0m in \u001b[0;36m<cell line: 1>\u001b[0;34m()\u001b[0m\n\u001b[0;32m----> 1\u001b[0;31m \u001b[0morderlines\u001b[0m\u001b[0;34m[\u001b[0m\u001b[0;34m\"unit_price\"\u001b[0m\u001b[0;34m]\u001b[0m \u001b[0;34m=\u001b[0m \u001b[0mpd\u001b[0m\u001b[0;34m.\u001b[0m\u001b[0mto_numeric\u001b[0m\u001b[0;34m(\u001b[0m\u001b[0morderlines\u001b[0m\u001b[0;34m[\u001b[0m\u001b[0;34m\"unit_price\"\u001b[0m\u001b[0;34m]\u001b[0m\u001b[0;34m)\u001b[0m\u001b[0;34m\u001b[0m\u001b[0;34m\u001b[0m\u001b[0m\n\u001b[0m\u001b[1;32m      2\u001b[0m \u001b[0;31m# ValueError: Unable to parse string \"1.137.99\" at position 6\u001b[0m\u001b[0;34m\u001b[0m\u001b[0;34m\u001b[0m\u001b[0m\n",
            "\u001b[0;32m/usr/local/lib/python3.10/dist-packages/pandas/core/tools/numeric.py\u001b[0m in \u001b[0;36mto_numeric\u001b[0;34m(arg, errors, downcast)\u001b[0m\n\u001b[1;32m    183\u001b[0m         \u001b[0mcoerce_numeric\u001b[0m \u001b[0;34m=\u001b[0m \u001b[0merrors\u001b[0m \u001b[0;32mnot\u001b[0m \u001b[0;32min\u001b[0m \u001b[0;34m(\u001b[0m\u001b[0;34m\"ignore\"\u001b[0m\u001b[0;34m,\u001b[0m \u001b[0;34m\"raise\"\u001b[0m\u001b[0;34m)\u001b[0m\u001b[0;34m\u001b[0m\u001b[0;34m\u001b[0m\u001b[0m\n\u001b[1;32m    184\u001b[0m         \u001b[0;32mtry\u001b[0m\u001b[0;34m:\u001b[0m\u001b[0;34m\u001b[0m\u001b[0;34m\u001b[0m\u001b[0m\n\u001b[0;32m--> 185\u001b[0;31m             values, _ = lib.maybe_convert_numeric(\n\u001b[0m\u001b[1;32m    186\u001b[0m                 \u001b[0mvalues\u001b[0m\u001b[0;34m,\u001b[0m \u001b[0mset\u001b[0m\u001b[0;34m(\u001b[0m\u001b[0;34m)\u001b[0m\u001b[0;34m,\u001b[0m \u001b[0mcoerce_numeric\u001b[0m\u001b[0;34m=\u001b[0m\u001b[0mcoerce_numeric\u001b[0m\u001b[0;34m\u001b[0m\u001b[0;34m\u001b[0m\u001b[0m\n\u001b[1;32m    187\u001b[0m             )\n",
            "\u001b[0;32m/usr/local/lib/python3.10/dist-packages/pandas/_libs/lib.pyx\u001b[0m in \u001b[0;36mpandas._libs.lib.maybe_convert_numeric\u001b[0;34m()\u001b[0m\n",
            "\u001b[0;31mValueError\u001b[0m: Unable to parse string \"1.137.99\" at position 6"
          ]
        }
      ]
    },
    {
      "cell_type": "code",
      "source": [],
      "metadata": {
        "id": "moA7q92WmRvB"
      },
      "execution_count": null,
      "outputs": []
    },
    {
      "cell_type": "markdown",
      "source": [
        "# Data quality work\n",
        "\n",
        "\n"
      ],
      "metadata": {
        "id": "Ni82V_O4mfSy"
      }
    },
    {
      "cell_type": "markdown",
      "source": [
        "Here we load our clean datasets."
      ],
      "metadata": {
        "id": "RposoDY4RKTn"
      }
    },
    {
      "cell_type": "code",
      "source": [
        "import pandas as pd\n",
        "\n",
        "def gd_path(file_id):\n",
        "    \"\"\"Generate a shareable link from Google Drive file id.\"\"\"\n",
        "    return f\"https://drive.google.com/uc?export=download&id={file_id}\"\n",
        "\n",
        "# Google Drive file ids\n",
        "file_ids = {\n",
        "    \"brands\": \"14_RkEUuhf9-otJqbVITDTvus45zR8LJp\",\n",
        "    \"orderlines\": \"18Tzi4SxwYsijRdhvUQUGSdi0A2WzlzA9\",\n",
        "    \"orders\": \"14HwyeNbaWy8IZ9BkwbDSxfDURHUtJzJ7\",\n",
        "    \"products\": \"1fQVI9IhFcDFMCEl5AQzJNKcEFMnYyLuA\",\n",
        "}\n",
        "\n",
        "# Read data from Google Drive\n",
        "brands_cl = pd.read_csv(gd_path(file_ids[\"brands\"]), sep=\",\")\n",
        "orderlines_cl = pd.read_csv(gd_path(file_ids[\"orderlines\"]), sep=\",\", parse_dates=[\"date\"])\n",
        "orders_cl = pd.read_csv(gd_path(file_ids[\"orders\"]), sep=\",\", parse_dates=[\"created_date\"])\n",
        "products_cl = pd.read_csv(gd_path(file_ids[\"products\"]), sep=\",\")"
      ],
      "metadata": {
        "id": "87oBUihoMNI7"
      },
      "execution_count": null,
      "outputs": []
    },
    {
      "cell_type": "markdown",
      "source": [
        "Now we  generate copies of the clean sets, and rename them into \"df\" for us to work on them."
      ],
      "metadata": {
        "id": "f86qaGEWSOHn"
      }
    },
    {
      "cell_type": "code",
      "source": [
        "brands_df = brands_cl.copy()\n",
        "orderlines_df = orderlines_cl.copy()\n",
        "orders_df = orders_cl.copy()\n",
        "products_df = products_cl.copy()"
      ],
      "metadata": {
        "id": "QOH_tsFlSMyj"
      },
      "execution_count": null,
      "outputs": []
    },
    {
      "cell_type": "markdown",
      "source": [
        "Here we set pandas Data frame size for us to work the on data quality next."
      ],
      "metadata": {
        "id": "FOpGg3P1ScaG"
      }
    },
    {
      "cell_type": "code",
      "source": [
        "pd.set_option(\"display.float_format\", lambda x: \"%.2f\" % x)\n",
        "pd.set_option(\"display.max_rows\", 1000)"
      ],
      "metadata": {
        "id": "Rrhw88lmNTwV"
      },
      "execution_count": null,
      "outputs": []
    },
    {
      "cell_type": "markdown",
      "source": [
        "## Excluding unwanted orders"
      ],
      "metadata": {
        "id": "YplxnLuKmnlY"
      }
    },
    {
      "cell_type": "code",
      "source": [
        "orders_df[\"state\"].unique()"
      ],
      "metadata": {
        "id": "ja0XpsDDkZrT",
        "colab": {
          "base_uri": "https://localhost:8080/"
        },
        "outputId": "48844a7a-8f5e-434b-eb95-a5a02294c25e"
      },
      "execution_count": null,
      "outputs": [
        {
          "output_type": "execute_result",
          "data": {
            "text/plain": [
              "array(['Cancelled', 'Completed', 'Pending', 'Shopping Basket',\n",
              "       'Place Order'], dtype=object)"
            ]
          },
          "metadata": {},
          "execution_count": 53
        }
      ]
    },
    {
      "cell_type": "markdown",
      "source": [
        "Now we focus only the \"completed\" orders and want to save them as a variable."
      ],
      "metadata": {
        "id": "9UXDSK2UTl02"
      }
    },
    {
      "cell_type": "code",
      "source": [
        "orders_comp_df = orders_df.loc[orders_df[\"state\"].isin([\"Completed\"])]"
      ],
      "metadata": {
        "id": "t83dQrleTmSq"
      },
      "execution_count": null,
      "outputs": []
    },
    {
      "cell_type": "markdown",
      "source": [
        "and we make a this variable a list."
      ],
      "metadata": {
        "id": "ZH6_olo4Vzfm"
      }
    },
    {
      "cell_type": "code",
      "source": [
        "orders_comp_list = list(orders_comp_df[\"order_id\"])"
      ],
      "metadata": {
        "id": "Vy8yuAxXV7M-"
      },
      "execution_count": null,
      "outputs": []
    },
    {
      "cell_type": "markdown",
      "source": [
        "Here we give the table orders and orderlines the \"qu\" ending to refer the format we made."
      ],
      "metadata": {
        "id": "9jBtwiI0WPAr"
      }
    },
    {
      "cell_type": "code",
      "source": [
        "orders_qu = orders_df.loc[orders_cl[\"order_id\"].isin(orders_comp_list), :].copy()"
      ],
      "metadata": {
        "id": "pmto4vKUjI9k"
      },
      "execution_count": null,
      "outputs": []
    },
    {
      "cell_type": "code",
      "source": [
        "orderlines_qu = orderlines_df.loc[orderlines_cl[\"id_order\"].isin(orders_comp_list), :].copy()"
      ],
      "metadata": {
        "id": "7kv1ECWecfdR"
      },
      "execution_count": null,
      "outputs": []
    },
    {
      "cell_type": "code",
      "source": [
        "#orders_qu.info()\n",
        "#orderlines_qu.info()"
      ],
      "metadata": {
        "id": "d35TdH9WCoge"
      },
      "execution_count": null,
      "outputs": []
    },
    {
      "cell_type": "markdown",
      "source": [
        "### Excluding orders with unknown products\n"
      ],
      "metadata": {
        "id": "uwPMfpe2nF_W"
      }
    },
    {
      "cell_type": "markdown",
      "source": [
        "Looks like the vast majority of products are known.\n",
        "\n",
        "We can't simply delete the rows containing unknown products. We need to remove the entirety of any order that contains an unknown product.\n",
        "\n",
        "The 1st step is to identify any order that contains an unknown product. Then find the order_id of these orders. Finally filter these order numbers out of our _qu DataFrames."
      ],
      "metadata": {
        "id": "6YPRm982QuUG"
      }
    },
    {
      "cell_type": "code",
      "source": [
        "known_sku_list = products_cl[\"sku\"].tolist()"
      ],
      "metadata": {
        "id": "cpqg6rrVEUab"
      },
      "execution_count": null,
      "outputs": []
    },
    {
      "cell_type": "code",
      "source": [
        "orderlines_qu.sku.isin(known_sku_list).value_counts()"
      ],
      "metadata": {
        "id": "80kl9lRMsA1D",
        "colab": {
          "base_uri": "https://localhost:8080/"
        },
        "outputId": "6e27941e-135c-48f5-8ba6-1b82353b2a0d"
      },
      "execution_count": null,
      "outputs": [
        {
          "output_type": "execute_result",
          "data": {
            "text/plain": [
              "True     55320\n",
              "False     1394\n",
              "Name: sku, dtype: int64"
            ]
          },
          "metadata": {},
          "execution_count": 60
        }
      ]
    },
    {
      "cell_type": "code",
      "source": [
        "unknown_orders = orderlines_qu[~orderlines_qu[\"sku\"].isin(known_sku_list)][\"id_order\"].tolist()\n",
        "\n",
        "orders_qu = orders_qu[~orders_qu[\"order_id\"].isin(unknown_orders)].copy()\n",
        "orderlines_qu = orderlines_qu[~orderlines_qu[\"id_order\"].isin(unknown_orders)].copy()\n",
        "\n",
        "len(orders_qu[\"order_id\"].unique()), len(orderlines_qu[\"id_order\"].unique())\n",
        "# Output: (41701, 41701)\n"
      ],
      "metadata": {
        "id": "yDfukiIxD3gF",
        "colab": {
          "base_uri": "https://localhost:8080/"
        },
        "outputId": "1cc88afd-575a-4c0d-cd08-a8c8914017f4"
      },
      "execution_count": null,
      "outputs": [
        {
          "output_type": "execute_result",
          "data": {
            "text/plain": [
              "(45242, 41701)"
            ]
          },
          "metadata": {},
          "execution_count": 61
        }
      ]
    },
    {
      "cell_type": "markdown",
      "source": [
        "### Only keep orders that are present in both `orders` and `orderlines`"
      ],
      "metadata": {
        "id": "dx7cZFAOmr5K"
      }
    },
    {
      "cell_type": "code",
      "source": [
        "# Inner merge of orderlines_qu and orders_qu\n",
        "orders_orderlines_qu_merged = orders_qu.merge(\n",
        "    orderlines_qu,\n",
        "    how=\"inner\",\n",
        "    left_on=\"order_id\",\n",
        "    right_on=\"id_order\"\n",
        ")\n",
        "\n",
        "# Create a list of the matching order_ids\n",
        "order_ids_in_both_list = orders_orderlines_qu_merged[\"order_id\"].unique().tolist()\n",
        "\n",
        "# Update `orderlines_qu` in accordance with the list above\n",
        "orderlines_qu = orderlines_qu[orderlines_qu[\"id_order\"].isin(order_ids_in_both_list)].copy()\n",
        "\n",
        "# Update `orders_qu` in accordance with the list above\n",
        "orders_qu = orders_qu[orders_qu[\"order_id\"].isin(order_ids_in_both_list)].copy()\n",
        "\n",
        "# Check the lengths of unique order_ids in both DataFrames\n",
        "len(orders_qu[\"order_id\"].unique()), len(orderlines_qu[\"id_order\"].unique())\n",
        "# The output should be (43064, 43064)"
      ],
      "metadata": {
        "id": "4CBTuWvtDQpL",
        "colab": {
          "base_uri": "https://localhost:8080/"
        },
        "outputId": "88091107-2ea4-48dc-996d-8aadb9b4b61b"
      },
      "execution_count": null,
      "outputs": [
        {
          "output_type": "execute_result",
          "data": {
            "text/plain": [
              "(41701, 41701)"
            ]
          },
          "metadata": {},
          "execution_count": 62
        }
      ]
    },
    {
      "cell_type": "markdown",
      "source": [
        "## Exploring the revenue from different tables."
      ],
      "metadata": {
        "id": "JJ0TtrGhFTMv"
      }
    },
    {
      "cell_type": "code",
      "source": [
        "orderlines_qu_copy = orderlines_qu.copy()\n",
        "#orderlines_qu.info()"
      ],
      "metadata": {
        "id": "_PlAo6eCv0-v"
      },
      "execution_count": null,
      "outputs": []
    },
    {
      "cell_type": "code",
      "source": [
        "#Create the unit_price_total as orderlines.unit_price * orderlines.product_quantity\n",
        "orderlines_qu_copy[\"unit_price_total\"] = orderlines_qu_copy[\"unit_price\"] * orderlines_qu_copy[\"product_quantity\"]"
      ],
      "metadata": {
        "id": "arRpW6DTFq8_"
      },
      "execution_count": null,
      "outputs": []
    },
    {
      "cell_type": "code",
      "source": [
        "#Group by order_id, summarising by the sum of unit_price_total\n",
        "orderlines_qu_group_order_df = orderlines_qu_copy.groupby(\"id_order\", as_index=False)[\"unit_price_total\"].sum()\n",
        "orderlines_qu_group_order_df"
      ],
      "metadata": {
        "id": "ah3neHfPFzd2",
        "colab": {
          "base_uri": "https://localhost:8080/"
        },
        "outputId": "37925fd0-54b2-4c27-a6ea-7cf76a931bfd"
      },
      "execution_count": null,
      "outputs": [
        {
          "output_type": "execute_result",
          "data": {
            "text/plain": [
              "       id_order  unit_price_total\n",
              "0        241423            129.16\n",
              "1        242832             10.77\n",
              "2        243330             77.99\n",
              "3        245275            149.00\n",
              "4        245595            105.98\n",
              "...         ...               ...\n",
              "41696    527042             13.99\n",
              "41697    527070             19.98\n",
              "41698    527074             19.98\n",
              "41699    527096             29.97\n",
              "41700    527112              9.99\n",
              "\n",
              "[41701 rows x 2 columns]"
            ],
            "text/html": [
              "\n",
              "  <div id=\"df-f38030ef-202b-4a0a-b1f2-066e802d2fc7\">\n",
              "    <div class=\"colab-df-container\">\n",
              "      <div>\n",
              "<style scoped>\n",
              "    .dataframe tbody tr th:only-of-type {\n",
              "        vertical-align: middle;\n",
              "    }\n",
              "\n",
              "    .dataframe tbody tr th {\n",
              "        vertical-align: top;\n",
              "    }\n",
              "\n",
              "    .dataframe thead th {\n",
              "        text-align: right;\n",
              "    }\n",
              "</style>\n",
              "<table border=\"1\" class=\"dataframe\">\n",
              "  <thead>\n",
              "    <tr style=\"text-align: right;\">\n",
              "      <th></th>\n",
              "      <th>id_order</th>\n",
              "      <th>unit_price_total</th>\n",
              "    </tr>\n",
              "  </thead>\n",
              "  <tbody>\n",
              "    <tr>\n",
              "      <th>0</th>\n",
              "      <td>241423</td>\n",
              "      <td>129.16</td>\n",
              "    </tr>\n",
              "    <tr>\n",
              "      <th>1</th>\n",
              "      <td>242832</td>\n",
              "      <td>10.77</td>\n",
              "    </tr>\n",
              "    <tr>\n",
              "      <th>2</th>\n",
              "      <td>243330</td>\n",
              "      <td>77.99</td>\n",
              "    </tr>\n",
              "    <tr>\n",
              "      <th>3</th>\n",
              "      <td>245275</td>\n",
              "      <td>149.00</td>\n",
              "    </tr>\n",
              "    <tr>\n",
              "      <th>4</th>\n",
              "      <td>245595</td>\n",
              "      <td>105.98</td>\n",
              "    </tr>\n",
              "    <tr>\n",
              "      <th>...</th>\n",
              "      <td>...</td>\n",
              "      <td>...</td>\n",
              "    </tr>\n",
              "    <tr>\n",
              "      <th>41696</th>\n",
              "      <td>527042</td>\n",
              "      <td>13.99</td>\n",
              "    </tr>\n",
              "    <tr>\n",
              "      <th>41697</th>\n",
              "      <td>527070</td>\n",
              "      <td>19.98</td>\n",
              "    </tr>\n",
              "    <tr>\n",
              "      <th>41698</th>\n",
              "      <td>527074</td>\n",
              "      <td>19.98</td>\n",
              "    </tr>\n",
              "    <tr>\n",
              "      <th>41699</th>\n",
              "      <td>527096</td>\n",
              "      <td>29.97</td>\n",
              "    </tr>\n",
              "    <tr>\n",
              "      <th>41700</th>\n",
              "      <td>527112</td>\n",
              "      <td>9.99</td>\n",
              "    </tr>\n",
              "  </tbody>\n",
              "</table>\n",
              "<p>41701 rows × 2 columns</p>\n",
              "</div>\n",
              "      <button class=\"colab-df-convert\" onclick=\"convertToInteractive('df-f38030ef-202b-4a0a-b1f2-066e802d2fc7')\"\n",
              "              title=\"Convert this dataframe to an interactive table.\"\n",
              "              style=\"display:none;\">\n",
              "        \n",
              "  <svg xmlns=\"http://www.w3.org/2000/svg\" height=\"24px\"viewBox=\"0 0 24 24\"\n",
              "       width=\"24px\">\n",
              "    <path d=\"M0 0h24v24H0V0z\" fill=\"none\"/>\n",
              "    <path d=\"M18.56 5.44l.94 2.06.94-2.06 2.06-.94-2.06-.94-.94-2.06-.94 2.06-2.06.94zm-11 1L8.5 8.5l.94-2.06 2.06-.94-2.06-.94L8.5 2.5l-.94 2.06-2.06.94zm10 10l.94 2.06.94-2.06 2.06-.94-2.06-.94-.94-2.06-.94 2.06-2.06.94z\"/><path d=\"M17.41 7.96l-1.37-1.37c-.4-.4-.92-.59-1.43-.59-.52 0-1.04.2-1.43.59L10.3 9.45l-7.72 7.72c-.78.78-.78 2.05 0 2.83L4 21.41c.39.39.9.59 1.41.59.51 0 1.02-.2 1.41-.59l7.78-7.78 2.81-2.81c.8-.78.8-2.07 0-2.86zM5.41 20L4 18.59l7.72-7.72 1.47 1.35L5.41 20z\"/>\n",
              "  </svg>\n",
              "      </button>\n",
              "      \n",
              "  <style>\n",
              "    .colab-df-container {\n",
              "      display:flex;\n",
              "      flex-wrap:wrap;\n",
              "      gap: 12px;\n",
              "    }\n",
              "\n",
              "    .colab-df-convert {\n",
              "      background-color: #E8F0FE;\n",
              "      border: none;\n",
              "      border-radius: 50%;\n",
              "      cursor: pointer;\n",
              "      display: none;\n",
              "      fill: #1967D2;\n",
              "      height: 32px;\n",
              "      padding: 0 0 0 0;\n",
              "      width: 32px;\n",
              "    }\n",
              "\n",
              "    .colab-df-convert:hover {\n",
              "      background-color: #E2EBFA;\n",
              "      box-shadow: 0px 1px 2px rgba(60, 64, 67, 0.3), 0px 1px 3px 1px rgba(60, 64, 67, 0.15);\n",
              "      fill: #174EA6;\n",
              "    }\n",
              "\n",
              "    [theme=dark] .colab-df-convert {\n",
              "      background-color: #3B4455;\n",
              "      fill: #D2E3FC;\n",
              "    }\n",
              "\n",
              "    [theme=dark] .colab-df-convert:hover {\n",
              "      background-color: #434B5C;\n",
              "      box-shadow: 0px 1px 3px 1px rgba(0, 0, 0, 0.15);\n",
              "      filter: drop-shadow(0px 1px 2px rgba(0, 0, 0, 0.3));\n",
              "      fill: #FFFFFF;\n",
              "    }\n",
              "  </style>\n",
              "\n",
              "      <script>\n",
              "        const buttonEl =\n",
              "          document.querySelector('#df-f38030ef-202b-4a0a-b1f2-066e802d2fc7 button.colab-df-convert');\n",
              "        buttonEl.style.display =\n",
              "          google.colab.kernel.accessAllowed ? 'block' : 'none';\n",
              "\n",
              "        async function convertToInteractive(key) {\n",
              "          const element = document.querySelector('#df-f38030ef-202b-4a0a-b1f2-066e802d2fc7');\n",
              "          const dataTable =\n",
              "            await google.colab.kernel.invokeFunction('convertToInteractive',\n",
              "                                                     [key], {});\n",
              "          if (!dataTable) return;\n",
              "\n",
              "          const docLinkHtml = 'Like what you see? Visit the ' +\n",
              "            '<a target=\"_blank\" href=https://colab.research.google.com/notebooks/data_table.ipynb>data table notebook</a>'\n",
              "            + ' to learn more about interactive tables.';\n",
              "          element.innerHTML = '';\n",
              "          dataTable['output_type'] = 'display_data';\n",
              "          await google.colab.output.renderOutput(dataTable, element);\n",
              "          const docLink = document.createElement('div');\n",
              "          docLink.innerHTML = docLinkHtml;\n",
              "          element.appendChild(docLink);\n",
              "        }\n",
              "      </script>\n",
              "    </div>\n",
              "  </div>\n",
              "  "
            ]
          },
          "metadata": {},
          "execution_count": 65
        }
      ]
    },
    {
      "cell_type": "markdown",
      "source": [
        "## What is the average difference between `total_paid` and `unit_price_total`?"
      ],
      "metadata": {
        "id": "_d1lwist8F6X"
      }
    },
    {
      "cell_type": "code",
      "source": [
        "orders_qu_copy = orders_qu.copy()\n",
        "diff_df = orders_qu_copy\n",
        "#Let's merge our grouped orderlines table with the orders table, so we can calculate the differences in prices.\n",
        "# inner merge of orderlines_qu and orders_qu\n",
        "diff_df = orders_qu_copy.merge(\n",
        "    orderlines_qu_group_order_df,\n",
        "    left_on=\"order_id\",\n",
        "    right_on=\"id_order\" )"
      ],
      "metadata": {
        "id": "nQ1qcQ9yGyrA"
      },
      "execution_count": null,
      "outputs": []
    },
    {
      "cell_type": "code",
      "source": [
        "diff_df[\"difference\"] = diff_df[\"total_paid\"] - diff_df[\"unit_price_total\"]"
      ],
      "metadata": {
        "id": "GBAqli_xHSTD"
      },
      "execution_count": null,
      "outputs": []
    },
    {
      "cell_type": "code",
      "source": [
        "#diff_df.head()"
      ],
      "metadata": {
        "id": "giSD8SabHa6C"
      },
      "execution_count": null,
      "outputs": []
    },
    {
      "cell_type": "markdown",
      "source": [
        "## What is the distribution of these differences?"
      ],
      "metadata": {
        "id": "UpynvRcO8QBr"
      }
    },
    {
      "cell_type": "code",
      "source": [
        "mean_difference = diff_df[\"difference\"].mean().round(2)\n",
        "\n"
      ],
      "metadata": {
        "id": "DL25LjSaIDyR"
      },
      "execution_count": null,
      "outputs": []
    },
    {
      "cell_type": "markdown",
      "source": [
        "## Can all the differences be explained by shipping costs? If not, what are other plausible explanations? / rewrite /"
      ],
      "metadata": {
        "id": "NINPK4rB8TSY"
      }
    },
    {
      "cell_type": "code",
      "source": [
        "diff_df[\"difference\"].hist(bins= 50, figsize=(8,6));"
      ],
      "metadata": {
        "id": "_6GvQ28EJUIf",
        "colab": {
          "base_uri": "https://localhost:8080/"
        },
        "outputId": "14a4614b-cea3-4724-d0a4-7b00b3b65824"
      },
      "execution_count": null,
      "outputs": [
        {
          "output_type": "display_data",
          "data": {
            "text/plain": [
              "<Figure size 800x600 with 1 Axes>"
            ],
            "image/png": "[encoded data removed]"
          },
          "metadata": {}
        }
      ]
    },
    {
      "cell_type": "code",
      "source": [
        "diff_df[\"difference\"].describe()"
      ],
      "metadata": {
        "id": "xcQmQRlKzes1",
        "colab": {
          "base_uri": "https://localhost:8080/"
        },
        "outputId": "8b29d029-de92-4779-aec0-46d02966c676"
      },
      "execution_count": null,
      "outputs": [
        {
          "output_type": "execute_result",
          "data": {
            "text/plain": [
              "count   41701.00\n",
              "mean        4.47\n",
              "std        26.05\n",
              "min      -165.00\n",
              "25%         0.00\n",
              "50%         4.99\n",
              "75%         6.99\n",
              "max      3984.99\n",
              "Name: difference, dtype: float64"
            ]
          },
          "metadata": {},
          "execution_count": 71
        }
      ]
    },
    {
      "cell_type": "code",
      "source": [
        "diff_df.sort_values(\"difference\", ascending=False)\n",
        "# some differences can be seen as shipping costs but others habe a huge difference. Both very high or very low"
      ],
      "metadata": {
        "id": "e2tae9xJGq_I",
        "colab": {
          "base_uri": "https://localhost:8080/"
        },
        "outputId": "6140651e-1ae4-42c7-b9dc-1412b16dc005"
      },
      "execution_count": null,
      "outputs": [
        {
          "output_type": "execute_result",
          "data": {
            "text/plain": [
              "       order_id        created_date  total_paid      state  id_order  \\\n",
              "97       297148 2017-01-01 16:42:24     4069.54  Completed    297148   \n",
              "81       293308 2017-01-01 13:33:43     2635.47  Completed    293308   \n",
              "39153    512894 2018-02-16 13:25:30     3356.18  Completed    512894   \n",
              "38255    508825 2018-02-16 11:21:44     2590.18  Completed    508825   \n",
              "39248    513447 2018-02-17 19:26:59      486.89  Completed    513447   \n",
              "...         ...                 ...         ...        ...       ...   \n",
              "3761     314570 2017-01-25 09:01:35      122.99  Completed    314570   \n",
              "318      300474 2017-01-02 12:24:54      119.00  Completed    300474   \n",
              "5075     319901 2017-02-04 16:09:34       60.43  Completed    319901   \n",
              "74       289685 2017-01-09 23:15:07       15.95  Completed    289685   \n",
              "23757    432303 2017-11-22 21:43:02      261.86  Completed    432303   \n",
              "\n",
              "       unit_price_total  difference  \n",
              "97                84.55     3984.99  \n",
              "81                66.49     2568.98  \n",
              "39153           1674.60     1681.58  \n",
              "38255           1291.60     1298.58  \n",
              "39248             94.98      391.91  \n",
              "...                 ...         ...  \n",
              "3761             164.90      -41.91  \n",
              "318              164.90      -45.90  \n",
              "5075             142.44      -82.01  \n",
              "74               135.97     -120.02  \n",
              "23757            426.86     -165.00  \n",
              "\n",
              "[41701 rows x 7 columns]"
            ],
            "text/html": [
              "\n",
              "  <div id=\"df-1490bae6-8da3-47e4-8b96-e76e0b1d90f3\">\n",
              "    <div class=\"colab-df-container\">\n",
              "      <div>\n",
              "<style scoped>\n",
              "    .dataframe tbody tr th:only-of-type {\n",
              "        vertical-align: middle;\n",
              "    }\n",
              "\n",
              "    .dataframe tbody tr th {\n",
              "        vertical-align: top;\n",
              "    }\n",
              "\n",
              "    .dataframe thead th {\n",
              "        text-align: right;\n",
              "    }\n",
              "</style>\n",
              "<table border=\"1\" class=\"dataframe\">\n",
              "  <thead>\n",
              "    <tr style=\"text-align: right;\">\n",
              "      <th></th>\n",
              "      <th>order_id</th>\n",
              "      <th>created_date</th>\n",
              "      <th>total_paid</th>\n",
              "      <th>state</th>\n",
              "      <th>id_order</th>\n",
              "      <th>unit_price_total</th>\n",
              "      <th>difference</th>\n",
              "    </tr>\n",
              "  </thead>\n",
              "  <tbody>\n",
              "    <tr>\n",
              "      <th>97</th>\n",
              "      <td>297148</td>\n",
              "      <td>2017-01-01 16:42:24</td>\n",
              "      <td>4069.54</td>\n",
              "      <td>Completed</td>\n",
              "      <td>297148</td>\n",
              "      <td>84.55</td>\n",
              "      <td>3984.99</td>\n",
              "    </tr>\n",
              "    <tr>\n",
              "      <th>81</th>\n",
              "      <td>293308</td>\n",
              "      <td>2017-01-01 13:33:43</td>\n",
              "      <td>2635.47</td>\n",
              "      <td>Completed</td>\n",
              "      <td>293308</td>\n",
              "      <td>66.49</td>\n",
              "      <td>2568.98</td>\n",
              "    </tr>\n",
              "    <tr>\n",
              "      <th>39153</th>\n",
              "      <td>512894</td>\n",
              "      <td>2018-02-16 13:25:30</td>\n",
              "      <td>3356.18</td>\n",
              "      <td>Completed</td>\n",
              "      <td>512894</td>\n",
              "      <td>1674.60</td>\n",
              "      <td>1681.58</td>\n",
              "    </tr>\n",
              "    <tr>\n",
              "      <th>38255</th>\n",
              "      <td>508825</td>\n",
              "      <td>2018-02-16 11:21:44</td>\n",
              "      <td>2590.18</td>\n",
              "      <td>Completed</td>\n",
              "      <td>508825</td>\n",
              "      <td>1291.60</td>\n",
              "      <td>1298.58</td>\n",
              "    </tr>\n",
              "    <tr>\n",
              "      <th>39248</th>\n",
              "      <td>513447</td>\n",
              "      <td>2018-02-17 19:26:59</td>\n",
              "      <td>486.89</td>\n",
              "      <td>Completed</td>\n",
              "      <td>513447</td>\n",
              "      <td>94.98</td>\n",
              "      <td>391.91</td>\n",
              "    </tr>\n",
              "    <tr>\n",
              "      <th>...</th>\n",
              "      <td>...</td>\n",
              "      <td>...</td>\n",
              "      <td>...</td>\n",
              "      <td>...</td>\n",
              "      <td>...</td>\n",
              "      <td>...</td>\n",
              "      <td>...</td>\n",
              "    </tr>\n",
              "    <tr>\n",
              "      <th>3761</th>\n",
              "      <td>314570</td>\n",
              "      <td>2017-01-25 09:01:35</td>\n",
              "      <td>122.99</td>\n",
              "      <td>Completed</td>\n",
              "      <td>314570</td>\n",
              "      <td>164.90</td>\n",
              "      <td>-41.91</td>\n",
              "    </tr>\n",
              "    <tr>\n",
              "      <th>318</th>\n",
              "      <td>300474</td>\n",
              "      <td>2017-01-02 12:24:54</td>\n",
              "      <td>119.00</td>\n",
              "      <td>Completed</td>\n",
              "      <td>300474</td>\n",
              "      <td>164.90</td>\n",
              "      <td>-45.90</td>\n",
              "    </tr>\n",
              "    <tr>\n",
              "      <th>5075</th>\n",
              "      <td>319901</td>\n",
              "      <td>2017-02-04 16:09:34</td>\n",
              "      <td>60.43</td>\n",
              "      <td>Completed</td>\n",
              "      <td>319901</td>\n",
              "      <td>142.44</td>\n",
              "      <td>-82.01</td>\n",
              "    </tr>\n",
              "    <tr>\n",
              "      <th>74</th>\n",
              "      <td>289685</td>\n",
              "      <td>2017-01-09 23:15:07</td>\n",
              "      <td>15.95</td>\n",
              "      <td>Completed</td>\n",
              "      <td>289685</td>\n",
              "      <td>135.97</td>\n",
              "      <td>-120.02</td>\n",
              "    </tr>\n",
              "    <tr>\n",
              "      <th>23757</th>\n",
              "      <td>432303</td>\n",
              "      <td>2017-11-22 21:43:02</td>\n",
              "      <td>261.86</td>\n",
              "      <td>Completed</td>\n",
              "      <td>432303</td>\n",
              "      <td>426.86</td>\n",
              "      <td>-165.00</td>\n",
              "    </tr>\n",
              "  </tbody>\n",
              "</table>\n",
              "<p>41701 rows × 7 columns</p>\n",
              "</div>\n",
              "      <button class=\"colab-df-convert\" onclick=\"convertToInteractive('df-1490bae6-8da3-47e4-8b96-e76e0b1d90f3')\"\n",
              "              title=\"Convert this dataframe to an interactive table.\"\n",
              "              style=\"display:none;\">\n",
              "        \n",
              "  <svg xmlns=\"http://www.w3.org/2000/svg\" height=\"24px\"viewBox=\"0 0 24 24\"\n",
              "       width=\"24px\">\n",
              "    <path d=\"M0 0h24v24H0V0z\" fill=\"none\"/>\n",
              "    <path d=\"M18.56 5.44l.94 2.06.94-2.06 2.06-.94-2.06-.94-.94-2.06-.94 2.06-2.06.94zm-11 1L8.5 8.5l.94-2.06 2.06-.94-2.06-.94L8.5 2.5l-.94 2.06-2.06.94zm10 10l.94 2.06.94-2.06 2.06-.94-2.06-.94-.94-2.06-.94 2.06-2.06.94z\"/><path d=\"M17.41 7.96l-1.37-1.37c-.4-.4-.92-.59-1.43-.59-.52 0-1.04.2-1.43.59L10.3 9.45l-7.72 7.72c-.78.78-.78 2.05 0 2.83L4 21.41c.39.39.9.59 1.41.59.51 0 1.02-.2 1.41-.59l7.78-7.78 2.81-2.81c.8-.78.8-2.07 0-2.86zM5.41 20L4 18.59l7.72-7.72 1.47 1.35L5.41 20z\"/>\n",
              "  </svg>\n",
              "      </button>\n",
              "      \n",
              "  <style>\n",
              "    .colab-df-container {\n",
              "      display:flex;\n",
              "      flex-wrap:wrap;\n",
              "      gap: 12px;\n",
              "    }\n",
              "\n",
              "    .colab-df-convert {\n",
              "      background-color: #E8F0FE;\n",
              "      border: none;\n",
              "      border-radius: 50%;\n",
              "      cursor: pointer;\n",
              "      display: none;\n",
              "      fill: #1967D2;\n",
              "      height: 32px;\n",
              "      padding: 0 0 0 0;\n",
              "      width: 32px;\n",
              "    }\n",
              "\n",
              "    .colab-df-convert:hover {\n",
              "      background-color: #E2EBFA;\n",
              "      box-shadow: 0px 1px 2px rgba(60, 64, 67, 0.3), 0px 1px 3px 1px rgba(60, 64, 67, 0.15);\n",
              "      fill: #174EA6;\n",
              "    }\n",
              "\n",
              "    [theme=dark] .colab-df-convert {\n",
              "      background-color: #3B4455;\n",
              "      fill: #D2E3FC;\n",
              "    }\n",
              "\n",
              "    [theme=dark] .colab-df-convert:hover {\n",
              "      background-color: #434B5C;\n",
              "      box-shadow: 0px 1px 3px 1px rgba(0, 0, 0, 0.15);\n",
              "      filter: drop-shadow(0px 1px 2px rgba(0, 0, 0, 0.3));\n",
              "      fill: #FFFFFF;\n",
              "    }\n",
              "  </style>\n",
              "\n",
              "      <script>\n",
              "        const buttonEl =\n",
              "          document.querySelector('#df-1490bae6-8da3-47e4-8b96-e76e0b1d90f3 button.colab-df-convert');\n",
              "        buttonEl.style.display =\n",
              "          google.colab.kernel.accessAllowed ? 'block' : 'none';\n",
              "\n",
              "        async function convertToInteractive(key) {\n",
              "          const element = document.querySelector('#df-1490bae6-8da3-47e4-8b96-e76e0b1d90f3');\n",
              "          const dataTable =\n",
              "            await google.colab.kernel.invokeFunction('convertToInteractive',\n",
              "                                                     [key], {});\n",
              "          if (!dataTable) return;\n",
              "\n",
              "          const docLinkHtml = 'Like what you see? Visit the ' +\n",
              "            '<a target=\"_blank\" href=https://colab.research.google.com/notebooks/data_table.ipynb>data table notebook</a>'\n",
              "            + ' to learn more about interactive tables.';\n",
              "          element.innerHTML = '';\n",
              "          dataTable['output_type'] = 'display_data';\n",
              "          await google.colab.output.renderOutput(dataTable, element);\n",
              "          const docLink = document.createElement('div');\n",
              "          docLink.innerHTML = docLinkHtml;\n",
              "          element.appendChild(docLink);\n",
              "        }\n",
              "      </script>\n",
              "    </div>\n",
              "  </div>\n",
              "  "
            ]
          },
          "metadata": {},
          "execution_count": 72
        }
      ]
    },
    {
      "cell_type": "markdown",
      "source": [
        "## If there are differences that you can’t explain: what should you do with these orders?"
      ],
      "metadata": {
        "id": "xPos2ipK8VST"
      }
    },
    {
      "cell_type": "code",
      "source": [
        "# calculate the quartiles\n",
        "Q1 = diff_df[\"difference\"].quantile(0.25)\n",
        "Q3 = diff_df[\"difference\"].quantile(0.75)\n",
        "\n",
        "# calculate the interquartile range\n",
        "IQR = Q3-Q1\n",
        "\n",
        "# filter the DataFrame to include only \"non-outliers\"\n",
        "diff_no_outliers_df = diff_df.loc[(diff_df[\"difference\"] >= (Q1 - 1.5*IQR)) & (diff_df[\"difference\"] <= (Q3 + 1.5*IQR)), :]"
      ],
      "metadata": {
        "id": "NzqM1HMMiaq2"
      },
      "execution_count": null,
      "outputs": []
    },
    {
      "cell_type": "code",
      "source": [
        "diff_no_outliers_df.difference.hist(bins= 50, figsize=(8,6));\n",
        "# the outliers are delted and the distribution is closer together"
      ],
      "metadata": {
        "id": "fBKVhn8DinlO",
        "colab": {
          "base_uri": "https://localhost:8080/"
        },
        "outputId": "eac379fb-de35-451d-9c4f-3b88ef6289ce"
      },
      "execution_count": null,
      "outputs": [
        {
          "output_type": "display_data",
          "data": {
            "text/plain": [
              "<Figure size 800x600 with 1 Axes>"
            ],
            "image/png": "[encoded data removed]"
          },
          "metadata": {}
        }
      ]
    },
    {
      "cell_type": "code",
      "source": [
        "normal_diff_list = list(diff_no_outliers_df[\"order_id\"])\n",
        "# the orders I just deleted also need to be deleted in the other tables. This will create a list with all ids that are left (without outliers)"
      ],
      "metadata": {
        "id": "nODiw1FLmoNd"
      },
      "execution_count": null,
      "outputs": []
    },
    {
      "cell_type": "code",
      "source": [
        "orders_df = orders_df.loc[orders_df[\"order_id\"].isin(normal_diff_list), :]\n",
        "orderlines_df = orderlines_cl.loc[orderlines_cl[\"id_order\"].isin(normal_diff_list), :]\n",
        "# these lines will compare in both tables the Ids that are in the normal_diff_list and the table and will only keep the matching ones."
      ],
      "metadata": {
        "id": "GG3wFvUunGdI"
      },
      "execution_count": null,
      "outputs": []
    },
    {
      "cell_type": "code",
      "source": [
        "len(list(orders_qu[\"order_id\"].unique())), len(list(orderlines_qu[\"id_order\"].unique()))\n",
        "# both tables have the same amount of order_ids"
      ],
      "metadata": {
        "id": "UyWDt46AoDhk",
        "colab": {
          "base_uri": "https://localhost:8080/"
        },
        "outputId": "1b2fa871-7c91-4f52-bf25-8b95f834bfaf"
      },
      "execution_count": null,
      "outputs": [
        {
          "output_type": "execute_result",
          "data": {
            "text/plain": [
              "(41701, 41701)"
            ]
          },
          "metadata": {},
          "execution_count": 77
        }
      ]
    },
    {
      "cell_type": "markdown",
      "source": [
        "## Become confident about your dataset"
      ],
      "metadata": {
        "id": "FWROzNEd8b8d"
      }
    },
    {
      "cell_type": "markdown",
      "source": [
        "Let's hear your thoughts about what you discovered."
      ],
      "metadata": {
        "id": "qkiySvbwldvU"
      }
    },
    {
      "cell_type": "code",
      "source": [
        "# your thoughts & code here"
      ],
      "metadata": {
        "id": "AR14cjMpfXV0"
      },
      "execution_count": null,
      "outputs": []
    },
    {
      "cell_type": "code",
      "source": [
        "#products\n",
        "#orders\n",
        "#orderlines\n",
        "#brands\n",
        "\n",
        "#product.shape\n",
        "#orders.shape\n",
        "#orderlines.shape\n",
        "#brands.shape\n",
        "\n",
        "#products.info\n",
        "#orders.info\n",
        "#orderlines.info\n",
        "#brands.info"
      ],
      "metadata": {
        "id": "3rv7UXMzK-cg"
      },
      "execution_count": null,
      "outputs": []
    },
    {
      "cell_type": "markdown",
      "source": [
        "Downloading our quality controlled DataFrames"
      ],
      "metadata": {
        "id": "dvyhnpLcfXdd"
      }
    },
    {
      "cell_type": "code",
      "source": [
        "from google.colab import files\n",
        "\n",
        "orders_qu.to_csv(\"orders_qu.csv\", index=False)\n",
        "files.download(\"orders_qu.csv\")\n",
        "\n",
        "orderlines_qu.to_csv(\"orderlines_qu.csv\", index=False)\n",
        "files.download(\"orderlines_qu.csv\")"
      ],
      "metadata": {
        "id": "gUcJc1E6sVOl",
        "colab": {
          "base_uri": "https://localhost:8080/"
        },
        "outputId": "6eadb947-0406-415a-f020-52bc37e925ec"
      },
      "execution_count": null,
      "outputs": [
        {
          "output_type": "display_data",
          "data": {
            "text/plain": [
              "<IPython.core.display.Javascript object>"
            ],
            "application/javascript": [
              "\n",
              "    async function download(id, filename, size) {\n",
              "      if (!google.colab.kernel.accessAllowed) {\n",
              "        return;\n",
              "      }\n",
              "      const div = document.createElement('div');\n",
              "      const label = document.createElement('label');\n",
              "      label.textContent = `Downloading \"${filename}\": `;\n",
              "      div.appendChild(label);\n",
              "      const progress = document.createElement('progress');\n",
              "      progress.max = size;\n",
              "      div.appendChild(progress);\n",
              "      document.body.appendChild(div);\n",
              "\n",
              "      const buffers = [];\n",
              "      let downloaded = 0;\n",
              "\n",
              "      const channel = await google.colab.kernel.comms.open(id);\n",
              "      // Send a message to notify the kernel that we're ready.\n",
              "      channel.send({})\n",
              "\n",
              "      for await (const message of channel.messages) {\n",
              "        // Send a message to notify the kernel that we're ready.\n",
              "        channel.send({})\n",
              "        if (message.buffers) {\n",
              "          for (const buffer of message.buffers) {\n",
              "            buffers.push(buffer);\n",
              "            downloaded += buffer.byteLength;\n",
              "            progress.value = downloaded;\n",
              "          }\n",
              "        }\n",
              "      }\n",
              "      const blob = new Blob(buffers, {type: 'application/binary'});\n",
              "      const a = document.createElement('a');\n",
              "      a.href = window.URL.createObjectURL(blob);\n",
              "      a.download = filename;\n",
              "      div.appendChild(a);\n",
              "      a.click();\n",
              "      div.remove();\n",
              "    }\n",
              "  "
            ]
          },
          "metadata": {}
        },
        {
          "output_type": "display_data",
          "data": {
            "text/plain": [
              "<IPython.core.display.Javascript object>"
            ],
            "application/javascript": [
              "download(\"download_7525d4c0-7d9f-4645-8025-7008ff7d68b2\", \"orders_qu.csv\", 1811362)"
            ]
          },
          "metadata": {}
        },
        {
          "output_type": "display_data",
          "data": {
            "text/plain": [
              "<IPython.core.display.Javascript object>"
            ],
            "application/javascript": [
              "\n",
              "    async function download(id, filename, size) {\n",
              "      if (!google.colab.kernel.accessAllowed) {\n",
              "        return;\n",
              "      }\n",
              "      const div = document.createElement('div');\n",
              "      const label = document.createElement('label');\n",
              "      label.textContent = `Downloading \"${filename}\": `;\n",
              "      div.appendChild(label);\n",
              "      const progress = document.createElement('progress');\n",
              "      progress.max = size;\n",
              "      div.appendChild(progress);\n",
              "      document.body.appendChild(div);\n",
              "\n",
              "      const buffers = [];\n",
              "      let downloaded = 0;\n",
              "\n",
              "      const channel = await google.colab.kernel.comms.open(id);\n",
              "      // Send a message to notify the kernel that we're ready.\n",
              "      channel.send({})\n",
              "\n",
              "      for await (const message of channel.messages) {\n",
              "        // Send a message to notify the kernel that we're ready.\n",
              "        channel.send({})\n",
              "        if (message.buffers) {\n",
              "          for (const buffer of message.buffers) {\n",
              "            buffers.push(buffer);\n",
              "            downloaded += buffer.byteLength;\n",
              "            progress.value = downloaded;\n",
              "          }\n",
              "        }\n",
              "      }\n",
              "      const blob = new Blob(buffers, {type: 'application/binary'});\n",
              "      const a = document.createElement('a');\n",
              "      a.href = window.URL.createObjectURL(blob);\n",
              "      a.download = filename;\n",
              "      div.appendChild(a);\n",
              "      a.click();\n",
              "      div.remove();\n",
              "    }\n",
              "  "
            ]
          },
          "metadata": {}
        },
        {
          "output_type": "display_data",
          "data": {
            "text/plain": [
              "<IPython.core.display.Javascript object>"
            ],
            "application/javascript": [
              "download(\"download_9826fbb2-0e2e-4148-a933-d3103be010c0\", \"orderlines_qu.csv\", 2893270)"
            ]
          },
          "metadata": {}
        }
      ]
    },
    {
      "cell_type": "code",
      "source": [],
      "metadata": {
        "id": "xqeCAJBt8V3T"
      },
      "execution_count": null,
      "outputs": []
    },
    {
      "cell_type": "markdown",
      "source": [
        "\n",
        "# Importing quality checked data & Creating new DataFrames"
      ],
      "metadata": {
        "id": "yn8Ob8QvSGdE"
      }
    },
    {
      "cell_type": "code",
      "source": [
        "import pandas as pd\n",
        "\n",
        "def gd_path(file_id):\n",
        "    \"\"\"Generate a shareable link from Google Drive file id.\"\"\"\n",
        "    return f\"https://drive.google.com/uc?export=download&id={file_id}\"\n",
        "\n",
        "# Google Drive file ids\n",
        "file_ids = {\n",
        "    \"brands\": \"1228LW6cfSlNFVTlLqH4CzO71dJKi8iqu\",\n",
        "    \"orderlines\": \"1HJaRmWsQL4aeU6umdedPpUj__mWV_5kQ\",\n",
        "    \"orders\": \"1PtPPww7U-gxm_JolJsU23Z9WBa_oBvaZ\",\n",
        "    \"products\": \"1tsCP3YUGmxp3i0I5lRs7_8XDMYWTd4HJ\",\n",
        "}\n",
        "\n",
        "# Read data from Google Drive\n",
        "brands_qu = pd.read_csv(gd_path(file_ids[\"brands\"]), sep=\",\")\n",
        "orderlines_qu = pd.read_csv(gd_path(file_ids[\"orderlines\"]), sep=\",\", parse_dates=[\"date\"])\n",
        "orders_qu = pd.read_csv(gd_path(file_ids[\"orders\"]), sep=\",\", parse_dates=[\"created_date\"])\n",
        "products_qu = pd.read_csv(gd_path(file_ids[\"products\"]), sep=\",\")"
      ],
      "metadata": {
        "id": "47rDgEKLSRAz"
      },
      "execution_count": null,
      "outputs": []
    },
    {
      "cell_type": "markdown",
      "source": [
        "Next we will creat copies of this quality checked datasets, to star to our analysis."
      ],
      "metadata": {
        "id": "6WY0mnWBSDdd"
      }
    },
    {
      "cell_type": "code",
      "source": [
        "brands_df = brands_qu.copy()\n",
        "orderlines_df = orderlines_qu.copy()\n",
        "orders_df = orders_qu.copy()\n",
        "products_df = products_qu.copy()"
      ],
      "metadata": {
        "id": "A7_VTWVkR_7N"
      },
      "execution_count": null,
      "outputs": []
    },
    {
      "cell_type": "markdown",
      "source": [
        "What is the time period that the dataset covers?"
      ],
      "metadata": {
        "id": "ntxYOJvXv7e7"
      }
    },
    {
      "cell_type": "code",
      "source": [
        "#What is the time period the dataset covers?\n",
        "\n",
        "# Find the minimum and maximum dates in the dataset\n",
        "start_date = orders_df['created_date'].min()\n",
        "end_date = orders_df['created_date'].max()\n",
        "\n",
        "# Print the time period covered by the dataset\n",
        "print(\"Time period covered by the dataset:\")\n",
        "print(\"Start date:\", start_date)\n",
        "print(\"End date:\", end_date)"
      ],
      "metadata": {
        "id": "j3_PLS93ZAzR",
        "colab": {
          "base_uri": "https://localhost:8080/"
        },
        "outputId": "5d96e8c5-0f2b-4eec-b695-11b7dea9251a"
      },
      "execution_count": null,
      "outputs": [
        {
          "output_type": "stream",
          "name": "stdout",
          "text": [
            "Time period covered by the dataset:\n",
            "Start date: 2017-01-01 00:07:19\n",
            "End date: 2018-03-14 13:58:36\n"
          ]
        }
      ]
    },
    {
      "cell_type": "markdown",
      "source": [
        "##What is the overall revenue for that time?"
      ],
      "metadata": {
        "id": "1uXKY4uzmhXW"
      }
    },
    {
      "cell_type": "code",
      "source": [
        "start_date = orders_df['created_date'].min()\n",
        "end_date = orders_df['created_date'].max()\n",
        "\n",
        "# Filter the 'orders_df' based on the time period covered by the dataset\n",
        "filtered_orders = orders_df[(orders_df['created_date'] >= start_date) & (orders_df['created_date'] <= end_date)]\n",
        "\n",
        "# Calculate and print the overall revenue\n",
        "overall_revenue = filtered_orders['total_paid'].sum()\n",
        "print(f\"Overall revenue for the time period: {overall_revenue}\")\n"
      ],
      "metadata": {
        "id": "SOnEh5_ZZN9i",
        "colab": {
          "base_uri": "https://localhost:8080/"
        },
        "outputId": "c2c0e5d7-9938-4e9f-90b8-07ad97439cee"
      },
      "execution_count": null,
      "outputs": [
        {
          "output_type": "stream",
          "name": "stdout",
          "text": [
            "Overall revenue for the time period: 129159615.07\n"
          ]
        }
      ]
    },
    {
      "cell_type": "markdown",
      "source": [
        "## Are there seasonal patterns in the evolution of sales?"
      ],
      "metadata": {
        "id": "-6PYOl6YmoIp"
      }
    },
    {
      "cell_type": "code",
      "source": [
        "import matplotlib.pyplot as plt\n",
        "\n",
        "# Grouping the data by month and calculate the total sales for each month\n",
        "monthly_sales = orders_df.resample('M', on='created_date')['total_paid'].sum()\n",
        "\n",
        "# Ploting the monthly sales\n",
        "monthly_sales.plot(figsize=(10, 6), grid=True)\n",
        "plt.xlabel('Month and Year')\n",
        "plt.ylabel('Total Sales')\n",
        "plt.title('Monthly Sales Over Time')\n",
        "plt.show()"
      ],
      "metadata": {
        "id": "J-osZW6fZpRY",
        "colab": {
          "base_uri": "https://localhost:8080/"
        },
        "outputId": "36d4a321-e720-4c53-f757-c2e01c3b8c0f"
      },
      "execution_count": null,
      "outputs": [
        {
          "output_type": "display_data",
          "data": {
            "text/plain": [
              "<Figure size 1000x600 with 1 Axes>"
            ],
            "image/png": "[encoded data removed]"
          },
          "metadata": {}
        }
      ]
    },
    {
      "cell_type": "markdown",
      "source": [
        "##  What are the most sold products?"
      ],
      "metadata": {
        "id": "LNcrYIoCmtge"
      }
    },
    {
      "cell_type": "code",
      "source": [
        "# Merging tables and grouping the data by product name to calculate the total quantity sold\n",
        "merged_df = pd.merge(orderlines_cl, products_cl, on='sku')\n",
        "product_sales = merged_df.groupby('name')['product_quantity'].sum()\n",
        "\n",
        "# Finding and print the top sold products\n",
        "top_sold_products = product_sales.nlargest(10)\n",
        "(\"Top sold products:\\n\", top_sold_products)\n"
      ],
      "metadata": {
        "id": "gexB8ca8Z1vi",
        "colab": {
          "base_uri": "https://localhost:8080/",
          "height": 236
        },
        "outputId": "a5c2e505-df47-421b-df2c-8d3c2403a9e0"
      },
      "execution_count": null,
      "outputs": [
        {
          "output_type": "error",
          "ename": "NameError",
          "evalue": "ignored",
          "traceback": [
            "\u001b[0;31m---------------------------------------------------------------------------\u001b[0m",
            "\u001b[0;31mNameError\u001b[0m                                 Traceback (most recent call last)",
            "\u001b[0;32m<ipython-input-43-de25dea4e591>\u001b[0m in \u001b[0;36m<cell line: 2>\u001b[0;34m()\u001b[0m\n\u001b[1;32m      1\u001b[0m \u001b[0;31m# Merging tables and grouping the data by product name to calculate the total quantity sold\u001b[0m\u001b[0;34m\u001b[0m\u001b[0;34m\u001b[0m\u001b[0m\n\u001b[0;32m----> 2\u001b[0;31m \u001b[0mmerged_df\u001b[0m \u001b[0;34m=\u001b[0m \u001b[0mpd\u001b[0m\u001b[0;34m.\u001b[0m\u001b[0mmerge\u001b[0m\u001b[0;34m(\u001b[0m\u001b[0morderlines_cl\u001b[0m\u001b[0;34m,\u001b[0m \u001b[0mproducts_cl\u001b[0m\u001b[0;34m,\u001b[0m \u001b[0mon\u001b[0m\u001b[0;34m=\u001b[0m\u001b[0;34m'sku'\u001b[0m\u001b[0;34m)\u001b[0m\u001b[0;34m\u001b[0m\u001b[0;34m\u001b[0m\u001b[0m\n\u001b[0m\u001b[1;32m      3\u001b[0m \u001b[0mproduct_sales\u001b[0m \u001b[0;34m=\u001b[0m \u001b[0mmerged_df\u001b[0m\u001b[0;34m.\u001b[0m\u001b[0mgroupby\u001b[0m\u001b[0;34m(\u001b[0m\u001b[0;34m'name'\u001b[0m\u001b[0;34m)\u001b[0m\u001b[0;34m[\u001b[0m\u001b[0;34m'product_quantity'\u001b[0m\u001b[0;34m]\u001b[0m\u001b[0;34m.\u001b[0m\u001b[0msum\u001b[0m\u001b[0;34m(\u001b[0m\u001b[0;34m)\u001b[0m\u001b[0;34m\u001b[0m\u001b[0;34m\u001b[0m\u001b[0m\n\u001b[1;32m      4\u001b[0m \u001b[0;34m\u001b[0m\u001b[0m\n\u001b[1;32m      5\u001b[0m \u001b[0;31m# Finding and print the top sold products\u001b[0m\u001b[0;34m\u001b[0m\u001b[0;34m\u001b[0m\u001b[0m\n",
            "\u001b[0;31mNameError\u001b[0m: name 'orderlines_cl' is not defined"
          ]
        }
      ]
    },
    {
      "cell_type": "markdown",
      "source": [
        "## What are the products that generate the most revenue?"
      ],
      "metadata": {
        "id": "mZ4OfbJ7mxjb"
      }
    },
    {
      "cell_type": "code",
      "source": [
        "# Merging tables and grouping the data by product name to calculate the total revenue for each product\n",
        "merged_order_orderlines_df = pd.merge(orders_cl, orderlines_cl, left_on='order_id', right_on='id_order', how='inner')\n",
        "merged_product_df = pd.merge(merged_order_orderlines_df, products_cl, on='sku')\n",
        "product_revenue = merged_product_df.groupby('name')['total_paid'].sum()\n",
        "\n",
        "# Printing the top revenue-generating products\n",
        "top_revenue_products = product_revenue.nlargest(10)\n",
        "print(\"Products generating the most revenue:\\n\", top_revenue_products)"
      ],
      "metadata": {
        "id": "RW7ZZkrQZ_bC"
      },
      "execution_count": null,
      "outputs": []
    },
    {
      "cell_type": "markdown",
      "source": [
        "#  <u>Analizing Discounts</u>\n",
        "\n",
        "##Does revenue grows when discounts increases?\n",
        "\n",
        "* *The Marketing Team Lead is convinced that offering discounts is beneficial in the long run. She believes discounts improve customer acquisition, satisfaction and retention, and allow the company to grow.*\n",
        "* *The main investors in the Board are worried about offering aggressive discounts. They have pointed out how the company’s recent quarterly results showed an increase in orders placed, but a decrease in the total revenue. They prefer that the company positions itself in the quality segment, rather than competing to offer the lowest prices in the market.*"
      ],
      "metadata": {
        "id": "6JJyFwMZARJa"
      }
    },
    {
      "cell_type": "code",
      "source": [
        "ol = orderlines_df\n",
        "p = products_df\n",
        "p_ol = ol.merge(\n",
        "    p,\n",
        "    how=\"left\",\n",
        "    left_on=\"sku\",\n",
        "    right_on=\"sku\"\n",
        ")\n",
        "\n",
        "o = orders_df\n",
        "p_ol_o = p_ol.merge(\n",
        "    o,\n",
        "    how=\"left\",\n",
        "    left_on=\"id_order\",\n",
        "    right_on=\"order_id\"\n",
        ")"
      ],
      "metadata": {
        "id": "UBflrIJBVQVt"
      },
      "execution_count": null,
      "outputs": []
    },
    {
      "cell_type": "markdown",
      "source": [
        "`p_ol_o` is the merger of the datasets `products_df`, `orderlines_df` and `orders_df`."
      ],
      "metadata": {
        "id": "qw2yNXxZVFo3"
      }
    },
    {
      "cell_type": "markdown",
      "source": [
        "Just an overview of the discounts:"
      ],
      "metadata": {
        "id": "Ewm3ISmnxnw7"
      }
    },
    {
      "cell_type": "code",
      "source": [
        "p_ol_o[\"discount\"] = p_ol_o[\"price\"] - p_ol_o[\"unit_price\"]\n",
        "p_ol_o[[\"sku\", \"name\", \"unit_price\", \"price\", \"discount\", \"date\"]]"
      ],
      "metadata": {
        "id": "04cc3b24phe9"
      },
      "execution_count": null,
      "outputs": []
    },
    {
      "cell_type": "markdown",
      "source": [
        "Discount and time dimension:"
      ],
      "metadata": {
        "id": "i6RnSeR5xwbO"
      }
    },
    {
      "cell_type": "code",
      "source": [
        "sorted_discounts = p_ol_o.sort_values(by='discount', ascending=False)\n",
        "sorted_discounts[[\"sku\", \"name\", \"unit_price\", \"price\", \"discount\", \"date\"]]"
      ],
      "metadata": {
        "id": "cc4NZcvdx53r"
      },
      "execution_count": null,
      "outputs": []
    },
    {
      "cell_type": "markdown",
      "source": [
        "line chart with two lines (one the sales, and the other one the sum / count of discounts)"
      ],
      "metadata": {
        "id": "K3msvPQRarJH"
      }
    },
    {
      "cell_type": "code",
      "source": [
        "daily_sales = p_ol_o.groupby(p_ol_o['date'].dt.date)['price'].sum()\n",
        "daily_discounts = p_ol_o.groupby(p_ol_o['date'].dt.date)['discount'].count()"
      ],
      "metadata": {
        "id": "gCJfNkEqavw8"
      },
      "execution_count": null,
      "outputs": []
    },
    {
      "cell_type": "code",
      "source": [
        "daily_data = pd.concat([daily_sales, daily_discounts], axis=1).reset_index()\n",
        "daily_data.columns = ['date', 'sales', 'discount_count']"
      ],
      "metadata": {
        "id": "oht_JiWLazsN"
      },
      "execution_count": null,
      "outputs": []
    },
    {
      "cell_type": "code",
      "source": [
        "plt.figure(figsize=(10, 6))\n",
        "plt.plot(daily_data['date'], daily_data['sales'], label='Sales')\n",
        "plt.plot(daily_data['date'], daily_data['discount_count'], label='Discount Count')\n",
        "\n",
        "plt.xlabel('Date')\n",
        "plt.ylabel('Sales & Discount Count')\n",
        "plt.title('Sales and Discounts Over Time')\n",
        "plt.legend()\n",
        "plt.grid(True)\n",
        "plt.show()"
      ],
      "metadata": {
        "id": "IU60mHWqa5WT"
      },
      "execution_count": null,
      "outputs": []
    },
    {
      "cell_type": "markdown",
      "source": [
        "# <u>Business Questions</u>\n",
        "\n"
      ],
      "metadata": {
        "id": "r3dnZVGwE6ci"
      }
    },
    {
      "cell_type": "markdown",
      "source": [
        "###How should products be classified into different categories to simplify reports and analysis?"
      ],
      "metadata": {
        "id": "DTLXlDGdFH30"
      }
    },
    {
      "cell_type": "markdown",
      "source": [
        "###What is the distribution of product prices across different categories?\n"
      ],
      "metadata": {
        "id": "n-Oyc1y8Fb8X"
      }
    },
    {
      "cell_type": "markdown",
      "source": [
        "###How many products are being discounted?"
      ],
      "metadata": {
        "id": "uVVZkbhZFiSR"
      }
    },
    {
      "cell_type": "code",
      "source": [],
      "metadata": {
        "id": "DaVDFR8ee35L"
      },
      "execution_count": null,
      "outputs": []
    },
    {
      "cell_type": "markdown",
      "source": [
        "###How big are the offered discounts as a percentage of the product prices?"
      ],
      "metadata": {
        "id": "CKzn97QhFuww"
      }
    },
    {
      "cell_type": "markdown",
      "source": [
        "###How do seasonality and special dates (Christmas, Black Friday) affect sales?"
      ],
      "metadata": {
        "id": "AB9Zqud8Fy0Y"
      }
    },
    {
      "cell_type": "markdown",
      "source": [
        "###How could data collection be improved?"
      ],
      "metadata": {
        "id": "1Q6IDhuyF0_w"
      }
    }
  ]
}